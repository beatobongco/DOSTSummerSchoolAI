{
 "cells": [
  {
   "cell_type": "code",
   "execution_count": 2,
   "metadata": {
    "collapsed": false
   },
   "outputs": [
    {
     "name": "stdout",
     "output_type": "stream",
     "text": [
      "Populating the interactive namespace from numpy and matplotlib\n"
     ]
    }
   ],
   "source": [
    "%pylab inline"
   ]
  },
  {
   "cell_type": "code",
   "execution_count": 18,
   "metadata": {
    "collapsed": true
   },
   "outputs": [],
   "source": [
    "import pandas as pd\n",
    "from scipy.optimize import minimize"
   ]
  },
  {
   "cell_type": "code",
   "execution_count": 41,
   "metadata": {
    "collapsed": false
   },
   "outputs": [
    {
     "data": {
      "text/plain": [
       "array([ -1.07505143e-08,  -1.07505143e-08,   1.00000000e+00])"
      ]
     },
     "execution_count": 41,
     "metadata": {},
     "output_type": "execute_result"
    }
   ],
   "source": [
    "m = pd.read_csv('SVM_Dataset1.csv')\n",
    "w1 = 1\n",
    "w2 = 1\n",
    "b = 0\n",
    "\n",
    "def obj_f(x):\n",
    "    return (x[0] ** 2 + x[1] ** 2) / 2 + (x[2] * 0) \n",
    "\n",
    "cons = ({\n",
    "    'type': 'eq', \n",
    "    'fun': lambda x: m['y'] * (x[0] * m['X1'].values + x[1] * m['X2'].values + x[2]) \n",
    "})\n",
    "\n",
    "minimize(obj_f, [1,1,1], constraints=cons)\n",
    "\n",
    "#m['y'] * (w1 * m['X1'].values + w2 * m['X2'].values + b)"
   ]
  }
 ],
 "metadata": {
  "kernelspec": {
   "display_name": "Python 3",
   "language": "python",
   "name": "python3"
  },
  "language_info": {
   "codemirror_mode": {
    "name": "ipython",
    "version": 3
   },
   "file_extension": ".py",
   "mimetype": "text/x-python",
   "name": "python",
   "nbconvert_exporter": "python",
   "pygments_lexer": "ipython3",
   "version": "3.6.0"
  }
 },
 "nbformat": 4,
 "nbformat_minor": 2
}
