{
 "cells": [
  {
   "cell_type": "markdown",
   "metadata": {},
   "source": [
    "# Module 1: Python Programming\n",
    "## A. Welcome to Jupyter (a.k.a. Ipython Notebooks)\n",
    "Take a while to adjust your bearings. Study the icons above.\n",
    "\n",
    "There are two major types of cells:\n",
    "\n",
    "1) Markdown cells - simple text. One can do html tags like <b>BOLD</b> or latex like $\\beta$.\n",
    "\n",
    "2) Code cells - cells where we can run code.\n",
    "\n",
    "<b>Shortcuts</b>\n",
    "\n",
    "1) <b>CTRL-M</b> then <b>H</b> to see help\n",
    "\n",
    "2) <b>CTRL-M</b> then <b>S</b> to save notebook\n",
    "\n",
    "3) <b>CTRL-ENTER</b> to Run Code but stay in the same cell\n",
    "\n",
    "4) <b>SHIFT-ENTER</b> to Run Code and advance to the next cell\n",
    "\n",
    "5) Using <b>%pylab inline</b> preceeding everything else in the notebook imports already matplotlib and numpy. It also enables our graphics to be part of the notebook.\n",
    "\n",
    "6) You can use <b>TAB</b> to see available functions. You can use <b>SHIFT-TAB</b> repeatedly for the documentation."
   ]
  },
  {
   "cell_type": "code",
   "execution_count": 3,
   "metadata": {
    "collapsed": false
   },
   "outputs": [
    {
     "name": "stdout",
     "output_type": "stream",
     "text": [
      "Populating the interactive namespace from numpy and matplotlib\n"
     ]
    }
   ],
   "source": [
    "%pylab inline"
   ]
  },
  {
   "cell_type": "markdown",
   "metadata": {},
   "source": [
    "## B. Variables and Data Types\n",
    "\n",
    "Python uses five standard data types:\n",
    "\n",
    "### Numbers"
   ]
  },
  {
   "cell_type": "code",
   "execution_count": 28,
   "metadata": {
    "collapsed": true
   },
   "outputs": [],
   "source": [
    "varNum = 123\n",
    "pi = 3.14159"
   ]
  },
  {
   "cell_type": "markdown",
   "metadata": {},
   "source": [
    "varNum is an Integer, thus it does not handle numbers with decimal places while pi is a Float where values in the decimal place are handled."
   ]
  },
  {
   "cell_type": "markdown",
   "metadata": {},
   "source": [
    "### Strings"
   ]
  },
  {
   "cell_type": "code",
   "execution_count": 29,
   "metadata": {
    "collapsed": false
   },
   "outputs": [
    {
     "name": "stdout",
     "output_type": "stream",
     "text": [
      "Hello World!\n",
      "The length of varString is 12\n"
     ]
    }
   ],
   "source": [
    "varString = \"Hello World!\"\n",
    "varText = 'This is a String'\n",
    "print(varString)\n",
    "print(\"The length of varString is\",len(varString))"
   ]
  },
  {
   "cell_type": "markdown",
   "metadata": {},
   "source": [
    "Strings may be declared with a single quote (') or double quote (\"), some even use triple double quotes(\"\"\"). One may use them interchangeable but some prefer to follow a specific format."
   ]
  },
  {
   "cell_type": "markdown",
   "metadata": {},
   "source": [
    "### Lists"
   ]
  },
  {
   "cell_type": "code",
   "execution_count": 30,
   "metadata": {
    "collapsed": false
   },
   "outputs": [
    {
     "name": "stdout",
     "output_type": "stream",
     "text": [
      "['abc', 123]\n",
      "2\n"
     ]
    }
   ],
   "source": [
    "varList = [\"abc\", 123]\n",
    "print(varList)\n",
    "print(len(varList))"
   ]
  },
  {
   "cell_type": "code",
   "execution_count": 31,
   "metadata": {
    "collapsed": false
   },
   "outputs": [
    {
     "name": "stdout",
     "output_type": "stream",
     "text": [
      "abc\n",
      "3\n"
     ]
    }
   ],
   "source": [
    "print(varList[0])\n",
    "print(len(varList[0]))"
   ]
  },
  {
   "cell_type": "markdown",
   "metadata": {},
   "source": [
    "You can think of Lists as similar to ArrayLists where the index starts at 0 and you can obtain the contents of a list by using brackets that contain the index of the element. You may also append items in the list and remove them as well."
   ]
  },
  {
   "cell_type": "markdown",
   "metadata": {},
   "source": [
    "### Tuples"
   ]
  },
  {
   "cell_type": "code",
   "execution_count": 32,
   "metadata": {
    "collapsed": false
   },
   "outputs": [
    {
     "name": "stdout",
     "output_type": "stream",
     "text": [
      "('abc', 123, 'HELLO')\n",
      "3\n",
      "abc\n"
     ]
    }
   ],
   "source": [
    "varTuple = ('abc', 123, \"HELLO\")\n",
    "print(varTuple)\n",
    "print(len(varTuple))\n",
    "print(varTuple[0])"
   ]
  },
  {
   "cell_type": "markdown",
   "metadata": {},
   "source": [
    "It may seem like there are no differences between Tuples and Lists other than Tuples use parenthesis while lists use brackets, but actually there are minor differences. For one thing, Tuples are fixed structures thus do not have the luxury of Lists to append or remove elements. Generally Lists have a lot of other functions readily available as opposed to using Tuples.\n",
    "\n",
    "<b>HINT:</b> You can try to type <b><i>varList.</i></b> in one line as well as <b><i>varTuple.</i></b> and press <b>TAB</b> after the period (.) in order to view possible functions you can call from that variable. You may also try to press <b>CTRL + TAB</b> when the text cursor."
   ]
  },
  {
   "cell_type": "code",
   "execution_count": 33,
   "metadata": {
    "collapsed": false
   },
   "outputs": [
    {
     "name": "stdout",
     "output_type": "stream",
     "text": [
      "['abc', 123, 'HELLO']\n",
      "3\n"
     ]
    }
   ],
   "source": [
    "varList.append(\"HELLO\")\n",
    "print(varList)\n",
    "print(len(varList))"
   ]
  },
  {
   "cell_type": "markdown",
   "metadata": {},
   "source": [
    "However Tuples actually use less space in the memory as opposed to Lists, resulting in faster processing. One thing to take note of is that one would usually use Tuples when the size of the contents are static as opposed to Lists where one can use it to continuously modify the size and elements."
   ]
  },
  {
   "cell_type": "code",
   "execution_count": 34,
   "metadata": {
    "collapsed": false
   },
   "outputs": [
    {
     "name": "stdout",
     "output_type": "stream",
     "text": [
      "['abc', 123, 'HELLO']\n",
      "88\n",
      "('abc', 123, 'HELLO')\n",
      "48\n"
     ]
    }
   ],
   "source": [
    "print(varList)\n",
    "print(varList.__sizeof__())\n",
    "print(varTuple)\n",
    "print(varTuple.__sizeof__())"
   ]
  },
  {
   "cell_type": "markdown",
   "metadata": {
    "collapsed": true
   },
   "source": [
    "### Dictionaries"
   ]
  },
  {
   "cell_type": "code",
   "execution_count": 35,
   "metadata": {
    "collapsed": false
   },
   "outputs": [
    {
     "data": {
      "text/plain": [
       "{'first': 1, '2': '2nd', 3: 3}"
      ]
     },
     "execution_count": 35,
     "metadata": {},
     "output_type": "execute_result"
    }
   ],
   "source": [
    "var = 3\n",
    "varDict = {'first':1, '2':'2nd', 3:var}\n",
    "varDict"
   ]
  },
  {
   "cell_type": "markdown",
   "metadata": {},
   "source": [
    "You may also declare contents of dictionaries individually"
   ]
  },
  {
   "cell_type": "code",
   "execution_count": 36,
   "metadata": {
    "collapsed": false
   },
   "outputs": [
    {
     "name": "stdout",
     "output_type": "stream",
     "text": [
      "3\n"
     ]
    }
   ],
   "source": [
    "varDict = {}\n",
    "varDict['first'] = 1\n",
    "varDict['2'] = '2nd'\n",
    "varDict[3] = var\n",
    "print(varDict[3])"
   ]
  },
  {
   "cell_type": "markdown",
   "metadata": {},
   "source": [
    "If you have experience in using JavaScript Object Notation or JSON, Python's implementation of Dictionaries are quite similar to that. You may reference an element by inserting the label of the keypair."
   ]
  },
  {
   "cell_type": "markdown",
   "metadata": {},
   "source": [
    "## Arithmetic\n",
    "\n",
    "Python uses basic arithmetic functions which are normally present on most if not all programming languages.\n",
    "\n",
    "### Addition"
   ]
  },
  {
   "cell_type": "code",
   "execution_count": 37,
   "metadata": {
    "collapsed": false
   },
   "outputs": [
    {
     "data": {
      "text/plain": [
       "8"
      ]
     },
     "execution_count": 37,
     "metadata": {},
     "output_type": "execute_result"
    }
   ],
   "source": [
    "a = 5 + 3\n",
    "a"
   ]
  },
  {
   "cell_type": "markdown",
   "metadata": {},
   "source": [
    "### Subtraction"
   ]
  },
  {
   "cell_type": "code",
   "execution_count": 38,
   "metadata": {
    "collapsed": false
   },
   "outputs": [
    {
     "data": {
      "text/plain": [
       "2"
      ]
     },
     "execution_count": 38,
     "metadata": {},
     "output_type": "execute_result"
    }
   ],
   "source": [
    "a = 5 - 3\n",
    "a"
   ]
  },
  {
   "cell_type": "markdown",
   "metadata": {},
   "source": [
    "### Multiplication"
   ]
  },
  {
   "cell_type": "code",
   "execution_count": 39,
   "metadata": {
    "collapsed": false
   },
   "outputs": [
    {
     "data": {
      "text/plain": [
       "15"
      ]
     },
     "execution_count": 39,
     "metadata": {},
     "output_type": "execute_result"
    }
   ],
   "source": [
    "a = 5 * 3\n",
    "a"
   ]
  },
  {
   "cell_type": "markdown",
   "metadata": {},
   "source": [
    "### Exponent"
   ]
  },
  {
   "cell_type": "code",
   "execution_count": 40,
   "metadata": {
    "collapsed": false
   },
   "outputs": [
    {
     "data": {
      "text/plain": [
       "125"
      ]
     },
     "execution_count": 40,
     "metadata": {},
     "output_type": "execute_result"
    }
   ],
   "source": [
    "a = 5 ** 3\n",
    "a"
   ]
  },
  {
   "cell_type": "markdown",
   "metadata": {},
   "source": [
    "### Division"
   ]
  },
  {
   "cell_type": "code",
   "execution_count": 41,
   "metadata": {
    "collapsed": false
   },
   "outputs": [
    {
     "data": {
      "text/plain": [
       "1.6666666666666667"
      ]
     },
     "execution_count": 41,
     "metadata": {},
     "output_type": "execute_result"
    }
   ],
   "source": [
    "a = 5 / 3\n",
    "a"
   ]
  },
  {
   "cell_type": "markdown",
   "metadata": {},
   "source": [
    "### Modulus Division"
   ]
  },
  {
   "cell_type": "code",
   "execution_count": 42,
   "metadata": {
    "collapsed": false
   },
   "outputs": [
    {
     "data": {
      "text/plain": [
       "2"
      ]
     },
     "execution_count": 42,
     "metadata": {},
     "output_type": "execute_result"
    }
   ],
   "source": [
    "a = 5 % 3\n",
    "a"
   ]
  },
  {
   "cell_type": "markdown",
   "metadata": {},
   "source": [
    "### Integer Division"
   ]
  },
  {
   "cell_type": "code",
   "execution_count": 43,
   "metadata": {
    "collapsed": false
   },
   "outputs": [
    {
     "data": {
      "text/plain": [
       "1"
      ]
     },
     "execution_count": 43,
     "metadata": {},
     "output_type": "execute_result"
    }
   ],
   "source": [
    "a = 5 // 3\n",
    "a"
   ]
  },
  {
   "cell_type": "markdown",
   "metadata": {},
   "source": [
    "### Increment"
   ]
  },
  {
   "cell_type": "code",
   "execution_count": 44,
   "metadata": {
    "collapsed": false
   },
   "outputs": [
    {
     "data": {
      "text/plain": [
       "6"
      ]
     },
     "execution_count": 44,
     "metadata": {},
     "output_type": "execute_result"
    }
   ],
   "source": [
    "a = 5\n",
    "a += 1\n",
    "a"
   ]
  },
  {
   "cell_type": "markdown",
   "metadata": {},
   "source": [
    "### Decrement"
   ]
  },
  {
   "cell_type": "code",
   "execution_count": 45,
   "metadata": {
    "collapsed": false
   },
   "outputs": [
    {
     "data": {
      "text/plain": [
       "4"
      ]
     },
     "execution_count": 45,
     "metadata": {},
     "output_type": "execute_result"
    }
   ],
   "source": [
    "a = 5\n",
    "a -= 1\n",
    "a"
   ]
  },
  {
   "cell_type": "markdown",
   "metadata": {},
   "source": [
    "<b>NOTE:</b> Python does not support the increment/decrement syntax of <b>x++/x--</b> instead you may use the syntax of <b>x+=1/x-=1</b> which is similar to <b>x=x+1/x=x-1</b>"
   ]
  },
  {
   "cell_type": "markdown",
   "metadata": {},
   "source": [
    "### String Concatenation"
   ]
  },
  {
   "cell_type": "code",
   "execution_count": 46,
   "metadata": {
    "collapsed": false
   },
   "outputs": [
    {
     "data": {
      "text/plain": [
       "'Hello World!'"
      ]
     },
     "execution_count": 46,
     "metadata": {},
     "output_type": "execute_result"
    }
   ],
   "source": [
    "a = 'Hello ' + 'World!'\n",
    "a"
   ]
  },
  {
   "cell_type": "markdown",
   "metadata": {},
   "source": [
    "Strings may also be appended with the use of the plus <b>(+)</b> symbol"
   ]
  },
  {
   "cell_type": "markdown",
   "metadata": {},
   "source": [
    "### Complex Expressions"
   ]
  },
  {
   "cell_type": "code",
   "execution_count": 47,
   "metadata": {
    "collapsed": false
   },
   "outputs": [
    {
     "data": {
      "text/plain": [
       "5.0"
      ]
     },
     "execution_count": 47,
     "metadata": {},
     "output_type": "execute_result"
    }
   ],
   "source": [
    "a = 3 + 5 - 6 * 2 / 4\n",
    "a"
   ]
  },
  {
   "cell_type": "markdown",
   "metadata": {},
   "source": [
    "## Challenge! Write the following to code\n",
    "\n",
    "$$ g(z) = \\frac{1}{1+e^{-z}}  $$\n",
    "\n",
    "1) z = 8, and e = 2.718 should be equal to 0.99966464986953363\n",
    "\n",
    "2) z = 2, and e = 2.718 should be equal to 0.88079707797788231"
   ]
  },
  {
   "cell_type": "code",
   "execution_count": 48,
   "metadata": {
    "collapsed": false
   },
   "outputs": [],
   "source": [
    "import numpy as np\n",
    "\n",
    "def g(z):\n",
    "    return 1 / (1 + np.exp(-z))\n",
    "\n",
    "assert g(8) == 0.99966464986953363\n",
    "assert g(2) == 0.88079707797788231"
   ]
  },
  {
   "cell_type": "markdown",
   "metadata": {},
   "source": [
    "<b><i>TRIVIA</i></b>: The value <b>e</b>, also called <b>Euler's number</b>, is a mathematical constant representing an irrational number that is approximately <b>2.71828</b>. Irrational, meaning the constant <b>e</b> is a real number that is unending and is unable to accurately be represented as a fraction, similar to that of <b>pi</b>."
   ]
  },
  {
   "cell_type": "markdown",
   "metadata": {},
   "source": [
    "## C. Control Statements and Data Structures\n",
    "## Conditional Statements\n",
    "In Python, curly brackets are not used to designate that multiple commands are inside a conditional statement, instead uniform spacing is used. Please take note however that the composition of the uniform spacing must be the same, such that if 4 spaces are being used, even though 4 spaces may have a visually similar result as a tab, interchanging them would produce an error statement\n",
    "### Boolean Condition"
   ]
  },
  {
   "cell_type": "code",
   "execution_count": 49,
   "metadata": {
    "collapsed": false
   },
   "outputs": [
    {
     "name": "stdout",
     "output_type": "stream",
     "text": [
      "var x is True\n"
     ]
    }
   ],
   "source": [
    "x = True\n",
    "if x:\n",
    "    print(\"var x is True\")\n",
    "else:\n",
    "    print(\"var x is False\")"
   ]
  },
  {
   "cell_type": "markdown",
   "metadata": {},
   "source": [
    "### String Condition"
   ]
  },
  {
   "cell_type": "code",
   "execution_count": 50,
   "metadata": {
    "collapsed": false
   },
   "outputs": [
    {
     "name": "stdout",
     "output_type": "stream",
     "text": [
      "var x is Hello World!\n"
     ]
    }
   ],
   "source": [
    "x = \"Hello World!\"\n",
    "\n",
    "if x == 'Hello World!':\n",
    "    print(\"var x is Hello World!\")\n",
    "else:\n",
    "    print(\"var x is not Hello World!\")"
   ]
  },
  {
   "cell_type": "markdown",
   "metadata": {},
   "source": [
    "### Numerical Condition"
   ]
  },
  {
   "cell_type": "code",
   "execution_count": 51,
   "metadata": {
    "collapsed": false
   },
   "outputs": [
    {
     "name": "stdout",
     "output_type": "stream",
     "text": [
      "var x in an Integer\n"
     ]
    }
   ],
   "source": [
    "x = 10\n",
    "\n",
    "if x == '10':\n",
    "    print(\"var x is a String\")\n",
    "elif x == 10:\n",
    "    print(\"var x in an Integer\")\n",
    "else:\n",
    "    print(\"var x is none of the above\")"
   ]
  },
  {
   "cell_type": "markdown",
   "metadata": {},
   "source": [
    "### Multiple Conditions"
   ]
  },
  {
   "cell_type": "code",
   "execution_count": 52,
   "metadata": {
    "collapsed": false
   },
   "outputs": [
    {
     "name": "stdout",
     "output_type": "stream",
     "text": [
      "var x is really 10!\n"
     ]
    }
   ],
   "source": [
    "x = 10\n",
    "\n",
    "if x > 5 and x < 15 and x == 10:\n",
    "    print(\"var x is really 10!\")\n",
    "else:\n",
    "    print(\"var x is not really 10\")"
   ]
  },
  {
   "cell_type": "code",
   "execution_count": 53,
   "metadata": {
    "collapsed": false
   },
   "outputs": [
    {
     "name": "stdout",
     "output_type": "stream",
     "text": [
      "var x can be 10 or 20\n"
     ]
    }
   ],
   "source": [
    "x = 10\n",
    "\n",
    "if x == 10 or x == 20:\n",
    "    print(\"var x can be 10 or 20\")\n",
    "else:\n",
    "    print(\"var x is not 10 nor 20\")"
   ]
  },
  {
   "cell_type": "markdown",
   "metadata": {},
   "source": [
    "## Loops\n",
    "Similar with that of Conditional Statements, commands within a loop are designated by having a uniform spacing.\n",
    "### For Loops"
   ]
  },
  {
   "cell_type": "code",
   "execution_count": 54,
   "metadata": {
    "collapsed": false,
    "scrolled": true
   },
   "outputs": [
    {
     "name": "stdout",
     "output_type": "stream",
     "text": [
      "0\n",
      "2\n",
      "4\n"
     ]
    }
   ],
   "source": [
    "for var in range(0,5,2):\n",
    "    print(var)"
   ]
  },
  {
   "cell_type": "markdown",
   "metadata": {},
   "source": [
    "<b>NOTE:</b> The command <b>range(0,5,2)</b> is equivalent to all numbers from 0 incremented by 2 until it reaches the number less than 5"
   ]
  },
  {
   "cell_type": "code",
   "execution_count": 55,
   "metadata": {
    "collapsed": false,
    "scrolled": true
   },
   "outputs": [
    {
     "data": {
      "text/plain": [
       "[1, 6, 11, 16, 21, 26, 31, 36, 41, 46, 51, 56, 61, 66, 71, 76, 81, 86, 91, 96]"
      ]
     },
     "execution_count": 55,
     "metadata": {},
     "output_type": "execute_result"
    }
   ],
   "source": [
    "[v for v in range(1, 100, 5)]"
   ]
  },
  {
   "cell_type": "markdown",
   "metadata": {},
   "source": [
    "<b>NOTE:</b> range([start], stop, [step])"
   ]
  },
  {
   "cell_type": "code",
   "execution_count": 56,
   "metadata": {
    "collapsed": false
   },
   "outputs": [
    {
     "ename": "NameError",
     "evalue": "name 'gen_num_up_to' is not defined",
     "output_type": "error",
     "traceback": [
      "\u001b[0;31m---------------------------------------------------------------------------\u001b[0m",
      "\u001b[0;31mNameError\u001b[0m                                 Traceback (most recent call last)",
      "\u001b[0;32m<ipython-input-56-743114a5735a>\u001b[0m in \u001b[0;36m<module>\u001b[0;34m()\u001b[0m\n\u001b[1;32m      2\u001b[0m \u001b[0;34m\u001b[0m\u001b[0m\n\u001b[1;32m      3\u001b[0m \u001b[0;32mfor\u001b[0m \u001b[0mi\u001b[0m \u001b[0;32min\u001b[0m \u001b[0mrange\u001b[0m\u001b[0;34m(\u001b[0m\u001b[0;36m1\u001b[0m\u001b[0;34m,\u001b[0m \u001b[0;36m5\u001b[0m\u001b[0;34m)\u001b[0m\u001b[0;34m:\u001b[0m\u001b[0;34m\u001b[0m\u001b[0m\n\u001b[0;32m----> 4\u001b[0;31m     \u001b[0maggregator\u001b[0m\u001b[0;34m.\u001b[0m\u001b[0mappend\u001b[0m\u001b[0;34m(\u001b[0m\u001b[0;34m[\u001b[0m\u001b[0mv\u001b[0m \u001b[0;32mfor\u001b[0m \u001b[0mv\u001b[0m \u001b[0;32min\u001b[0m \u001b[0mgen_num_up_to\u001b[0m\u001b[0;34m(\u001b[0m\u001b[0;36m5\u001b[0m\u001b[0;34m)\u001b[0m\u001b[0;34m]\u001b[0m\u001b[0;34m)\u001b[0m\u001b[0;34m\u001b[0m\u001b[0m\n\u001b[0m\u001b[1;32m      5\u001b[0m \u001b[0maggregator\u001b[0m\u001b[0;34m\u001b[0m\u001b[0m\n",
      "\u001b[0;31mNameError\u001b[0m: name 'gen_num_up_to' is not defined"
     ]
    }
   ],
   "source": [
    "aggregator = []\n",
    "\n",
    "for i in range(1, 5):\n",
    "    aggregator.append([v for v in gen_num_up_to(5)])\n",
    "aggregator"
   ]
  },
  {
   "cell_type": "markdown",
   "metadata": {},
   "source": [
    "### While Loops"
   ]
  },
  {
   "cell_type": "code",
   "execution_count": null,
   "metadata": {
    "collapsed": false
   },
   "outputs": [],
   "source": [
    "var = 0\n",
    "while var < 5:\n",
    "    print(var)\n",
    "    var += 2"
   ]
  },
  {
   "cell_type": "markdown",
   "metadata": {},
   "source": [
    "### Nested Loops"
   ]
  },
  {
   "cell_type": "code",
   "execution_count": null,
   "metadata": {
    "collapsed": false
   },
   "outputs": [],
   "source": [
    "x = 0\n",
    "while x < 5:\n",
    "    for y in range(0, x):\n",
    "        print(y, end='')\n",
    "    x+=1\n",
    "    print()"
   ]
  },
  {
   "cell_type": "markdown",
   "metadata": {},
   "source": [
    "Always take note that there should be a colon <b>(:)</b> on the line where one delcares the loop or condition"
   ]
  },
  {
   "cell_type": "markdown",
   "metadata": {},
   "source": [
    "## Lists"
   ]
  },
  {
   "cell_type": "code",
   "execution_count": null,
   "metadata": {
    "collapsed": false
   },
   "outputs": [],
   "source": [
    "pi = 3.14159\n",
    "varList = [1, 2, 'A', 'B', 'Hello!', pi]\n",
    "print(varList[0])"
   ]
  },
  {
   "cell_type": "markdown",
   "metadata": {},
   "source": [
    "For more information regarding lists, this has been discussed on section B. Data Types and Variables.\n",
    "You can chose to insert different datatypes in a single list."
   ]
  },
  {
   "cell_type": "code",
   "execution_count": null,
   "metadata": {
    "collapsed": false
   },
   "outputs": [],
   "source": [
    "print(varList[4])"
   ]
  },
  {
   "cell_type": "markdown",
   "metadata": {},
   "source": [
    "You may call the content of the list through indexing"
   ]
  },
  {
   "cell_type": "code",
   "execution_count": null,
   "metadata": {
    "collapsed": false
   },
   "outputs": [],
   "source": [
    "varList.append('World!')\n",
    "print(varList[6])"
   ]
  },
  {
   "cell_type": "markdown",
   "metadata": {},
   "source": [
    "You may also append items in the list. The example above shows you that when you added a new list item, it would be added towards the end of list"
   ]
  },
  {
   "cell_type": "code",
   "execution_count": null,
   "metadata": {
    "collapsed": false
   },
   "outputs": [],
   "source": [
    "len(varList)"
   ]
  },
  {
   "cell_type": "markdown",
   "metadata": {},
   "source": [
    "You may obtain the number of elements in a list by calling the <b>len()</b> function"
   ]
  },
  {
   "cell_type": "code",
   "execution_count": null,
   "metadata": {
    "collapsed": false
   },
   "outputs": [],
   "source": [
    "print(varList[5])"
   ]
  },
  {
   "cell_type": "code",
   "execution_count": null,
   "metadata": {
    "collapsed": false
   },
   "outputs": [],
   "source": [
    "varList.remove(pi)\n",
    "print(varList[5])"
   ]
  },
  {
   "cell_type": "markdown",
   "metadata": {},
   "source": [
    "Initially <b>varList[5]</b> was called and the result was 3.14159, however when the <b>remove()</b> function was called, it iterates though the list looking for the first match then erases that value."
   ]
  },
  {
   "cell_type": "markdown",
   "metadata": {},
   "source": [
    "## Dictionaries"
   ]
  },
  {
   "cell_type": "code",
   "execution_count": null,
   "metadata": {
    "collapsed": false
   },
   "outputs": [],
   "source": [
    "var = \"Hello World!\"\n",
    "varDict = {'first' : 123, 2 : 'abc', '3' : var, 4:['lista', 'listb']}\n",
    "print(varDict['first'])"
   ]
  },
  {
   "cell_type": "code",
   "execution_count": null,
   "metadata": {
    "collapsed": false
   },
   "outputs": [],
   "source": [
    "print(varDict[2])"
   ]
  },
  {
   "cell_type": "code",
   "execution_count": null,
   "metadata": {
    "collapsed": false
   },
   "outputs": [],
   "source": [
    "print(varDict['3'])"
   ]
  },
  {
   "cell_type": "code",
   "execution_count": null,
   "metadata": {
    "collapsed": false
   },
   "outputs": [],
   "source": [
    "print(varDict[4])"
   ]
  },
  {
   "cell_type": "code",
   "execution_count": null,
   "metadata": {
    "collapsed": false
   },
   "outputs": [],
   "source": [
    "print(varDict[4][1])"
   ]
  },
  {
   "cell_type": "code",
   "execution_count": null,
   "metadata": {
    "collapsed": false
   },
   "outputs": [],
   "source": [
    "len(varDict)"
   ]
  },
  {
   "cell_type": "markdown",
   "metadata": {},
   "source": [
    "## List Generators and Comprehension"
   ]
  },
  {
   "cell_type": "code",
   "execution_count": null,
   "metadata": {
    "collapsed": true
   },
   "outputs": [],
   "source": [
    "def gen_num_up_to(n):\n",
    "    num = 0\n",
    "    while num < n:\n",
    "        yield num\n",
    "        num += 1"
   ]
  },
  {
   "cell_type": "code",
   "execution_count": null,
   "metadata": {
    "collapsed": false
   },
   "outputs": [],
   "source": [
    "gen_num_up_to(5)"
   ]
  },
  {
   "cell_type": "code",
   "execution_count": null,
   "metadata": {
    "collapsed": false
   },
   "outputs": [],
   "source": [
    "varList = gen_num_up_to(5)\n",
    "print([var for var in varList])"
   ]
  },
  {
   "cell_type": "code",
   "execution_count": null,
   "metadata": {
    "collapsed": false
   },
   "outputs": [],
   "source": [
    "def gen_num_up_to(n):\n",
    "    num = 0\n",
    "    while num < n:\n",
    "        yield num\n",
    "        num += 2\n",
    "\n",
    "varList = gen_num_up_to(5)\n",
    "print([var for var in varList])"
   ]
  },
  {
   "cell_type": "code",
   "execution_count": null,
   "metadata": {
    "collapsed": false
   },
   "outputs": [],
   "source": [
    "varList = range(0, 5, 2)\n",
    "print([var for var in varList])"
   ]
  },
  {
   "cell_type": "markdown",
   "metadata": {},
   "source": [
    "## Slicing"
   ]
  },
  {
   "cell_type": "code",
   "execution_count": null,
   "metadata": {
    "collapsed": false
   },
   "outputs": [],
   "source": [
    "varList = [1, 2, 3, 4, 5, 6, 7, 8, 9, 10]\n",
    "varList[:5]"
   ]
  },
  {
   "cell_type": "code",
   "execution_count": null,
   "metadata": {
    "collapsed": false
   },
   "outputs": [],
   "source": [
    "varList[5:]"
   ]
  },
  {
   "cell_type": "code",
   "execution_count": null,
   "metadata": {
    "collapsed": false
   },
   "outputs": [],
   "source": [
    "varList[:-2]"
   ]
  },
  {
   "cell_type": "code",
   "execution_count": null,
   "metadata": {
    "collapsed": false
   },
   "outputs": [],
   "source": [
    "varList[-2:]"
   ]
  },
  {
   "cell_type": "code",
   "execution_count": null,
   "metadata": {
    "collapsed": false
   },
   "outputs": [],
   "source": [
    "print(varList[2:-2])"
   ]
  },
  {
   "cell_type": "code",
   "execution_count": null,
   "metadata": {
    "collapsed": false
   },
   "outputs": [],
   "source": [
    "varList[2:8:2]"
   ]
  },
  {
   "cell_type": "markdown",
   "metadata": {},
   "source": [
    "<b>NOTE</b> <i>list([start]: end : [\n",
    "step])"
   ]
  },
  {
   "cell_type": "markdown",
   "metadata": {},
   "source": [
    "## D. Functions\n",
    "\n",
    "Functions use the following notation:\n",
    "\n",
    "def <i>function_name</i>:<br>\n",
    "<pre><i> input commands here </i></pre>\n",
    "\n",
    "Here is a sample function. np.random.randint(a, [b]) outputs uniformly random values from $[a,b) $"
   ]
  },
  {
   "cell_type": "code",
   "execution_count": null,
   "metadata": {
    "collapsed": true
   },
   "outputs": [],
   "source": [
    "def remainder(n, m):\n",
    "    while True:\n",
    "        if n - m < 0:\n",
    "            return n\n",
    "        else:\n",
    "            n = n - m"
   ]
  },
  {
   "cell_type": "code",
   "execution_count": null,
   "metadata": {
    "collapsed": false
   },
   "outputs": [],
   "source": [
    "remainder(10, 4)"
   ]
  },
  {
   "cell_type": "markdown",
   "metadata": {},
   "source": [
    "## Challenge: Coin Flip\n",
    "Create a function that simulates coin flips repeated n times. Make the function a generator with a parameter n for the number of coin flips. Use np.random.randint to simulate a coin flip.\n",
    "\n",
    "After defining this function, output a list using a list comprehension similar to the above example."
   ]
  },
  {
   "cell_type": "code",
   "execution_count": null,
   "metadata": {
    "collapsed": false
   },
   "outputs": [],
   "source": [
    "import numpy as np\n",
    "\n",
    "def coin_flip(n):\n",
    "    for _ in range(n):\n",
    "        yield np.random.randint(0, 2)\n",
    "\n",
    "print(list(coin_flip(8)))"
   ]
  },
  {
   "cell_type": "markdown",
   "metadata": {},
   "source": [
    "# Vectors, Matrices and Computation\n",
    "In Python, you can use <b>NUMPY</b> or <b>np</b> through the use of <b>import numpy as np</b> in order to easily use functions for vectors and matrices."
   ]
  },
  {
   "cell_type": "code",
   "execution_count": null,
   "metadata": {
    "collapsed": false
   },
   "outputs": [],
   "source": [
    "np.array(range(100))"
   ]
  },
  {
   "cell_type": "markdown",
   "metadata": {},
   "source": [
    "It's the same as just: "
   ]
  },
  {
   "cell_type": "code",
   "execution_count": null,
   "metadata": {
    "collapsed": false,
    "scrolled": true
   },
   "outputs": [],
   "source": [
    "np.arange(0, 100)"
   ]
  },
  {
   "cell_type": "code",
   "execution_count": null,
   "metadata": {
    "collapsed": false
   },
   "outputs": [],
   "source": [
    "print(np.arange(0, 100))"
   ]
  },
  {
   "cell_type": "code",
   "execution_count": null,
   "metadata": {
    "collapsed": false
   },
   "outputs": [],
   "source": [
    "np.array([v for v in coin_flip(10)])"
   ]
  },
  {
   "cell_type": "markdown",
   "metadata": {},
   "source": [
    "## Computing vector computations\n",
    "### Vector to scalar"
   ]
  },
  {
   "cell_type": "code",
   "execution_count": null,
   "metadata": {
    "collapsed": false
   },
   "outputs": [],
   "source": [
    "varArray = np.arange(0, 5)\n",
    "varArray * 2"
   ]
  },
  {
   "cell_type": "markdown",
   "metadata": {},
   "source": [
    "### Vector to vector: Dot Product"
   ]
  },
  {
   "cell_type": "code",
   "execution_count": null,
   "metadata": {
    "collapsed": false
   },
   "outputs": [],
   "source": [
    "varArrayA = np.arange(0,5)\n",
    "varArrayB = np.arange(5,10)\n",
    "\n",
    "print(varArrayA)\n",
    "print(varArrayB)\n",
    "print(np.dot(varArrayA, varArrayB))"
   ]
  },
  {
   "cell_type": "markdown",
   "metadata": {},
   "source": [
    "### Vector to vector: Element-wise multiplication"
   ]
  },
  {
   "cell_type": "code",
   "execution_count": null,
   "metadata": {
    "collapsed": false
   },
   "outputs": [],
   "source": [
    "varArrayA * varArrayB"
   ]
  },
  {
   "cell_type": "markdown",
   "metadata": {},
   "source": [
    "## Challenge: Compute the mean of 1000 coin flips\n",
    "Recall that mean is computed thus:\n",
    "\n",
    "$$ mean(\\vec{X}) = \\frac{1}{|\\vec{X}|} \\sum_{k}X_k$$"
   ]
  },
  {
   "cell_type": "code",
   "execution_count": null,
   "metadata": {
    "collapsed": false
   },
   "outputs": [],
   "source": [
    "np.mean(list(coin_flip(1000)))"
   ]
  },
  {
   "cell_type": "markdown",
   "metadata": {},
   "source": [
    "## Matrix to Scalar: Element-wise multiplication"
   ]
  },
  {
   "cell_type": "code",
   "execution_count": null,
   "metadata": {
    "collapsed": false
   },
   "outputs": [],
   "source": [
    "mat_a = np.random.randint(0, 5, size=(4,4))\n",
    "print(mat_a)\n",
    "print(mat_a * 2)"
   ]
  },
  {
   "cell_type": "markdown",
   "metadata": {},
   "source": [
    "## Matrix to Matrix: Matrix Multiplication "
   ]
  },
  {
   "cell_type": "code",
   "execution_count": null,
   "metadata": {
    "collapsed": false
   },
   "outputs": [],
   "source": [
    "mat_a * mat_a"
   ]
  },
  {
   "cell_type": "markdown",
   "metadata": {},
   "source": [
    "## Advanced Matrix Operations"
   ]
  },
  {
   "cell_type": "code",
   "execution_count": null,
   "metadata": {
    "collapsed": false
   },
   "outputs": [],
   "source": [
    "from scipy.linalg import eig\n",
    "eig(mat_a)"
   ]
  },
  {
   "cell_type": "markdown",
   "metadata": {},
   "source": [
    "# Enter Pandas"
   ]
  },
  {
   "cell_type": "code",
   "execution_count": 106,
   "metadata": {
    "collapsed": true
   },
   "outputs": [],
   "source": [
    "import pandas as pd\n",
    "\n",
    "data = pd.read_csv(\"movie_metadata.csv\")"
   ]
  },
  {
   "cell_type": "code",
   "execution_count": null,
   "metadata": {
    "collapsed": false
   },
   "outputs": [],
   "source": [
    "data.shape"
   ]
  },
  {
   "cell_type": "code",
   "execution_count": 84,
   "metadata": {
    "collapsed": false
   },
   "outputs": [
    {
     "data": {
      "text/plain": [
       "Index(['movie_title', 'color', 'director_name', 'num_critic_for_reviews',\n",
       "       'duration', 'director_facebook_likes', 'actor_3_facebook_likes',\n",
       "       'actor_2_name', 'actor_1_facebook_likes', 'gross', 'genres',\n",
       "       'actor_1_name', 'num_voted_users', 'cast_total_facebook_likes',\n",
       "       'actor_3_name', 'facenumber_in_poster', 'plot_keywords',\n",
       "       'movie_imdb_link', 'num_user_for_reviews', 'language', 'country',\n",
       "       'content_rating', 'budget', 'title_year', 'actor_2_facebook_likes',\n",
       "       'imdb_score', 'aspect_ratio', 'movie_facebook_likes'],\n",
       "      dtype='object')"
      ]
     },
     "execution_count": 84,
     "metadata": {},
     "output_type": "execute_result"
    }
   ],
   "source": [
    "data.columns"
   ]
  },
  {
   "cell_type": "markdown",
   "metadata": {},
   "source": [
    "## Slicing data frames"
   ]
  },
  {
   "cell_type": "code",
   "execution_count": null,
   "metadata": {
    "collapsed": false
   },
   "outputs": [],
   "source": [
    "data[:4]"
   ]
  },
  {
   "cell_type": "markdown",
   "metadata": {},
   "source": [
    "## Indexing Columns"
   ]
  },
  {
   "cell_type": "code",
   "execution_count": null,
   "metadata": {
    "collapsed": false
   },
   "outputs": [],
   "source": [
    "data.director_name[:4]"
   ]
  },
  {
   "cell_type": "code",
   "execution_count": null,
   "metadata": {
    "collapsed": false
   },
   "outputs": [],
   "source": [
    "cols = [\"movie_title\",\"director_name\"]\n",
    "data[cols][:5]"
   ]
  },
  {
   "cell_type": "markdown",
   "metadata": {},
   "source": [
    "## Indexing Rows"
   ]
  },
  {
   "cell_type": "code",
   "execution_count": null,
   "metadata": {
    "collapsed": false
   },
   "outputs": [],
   "source": [
    "data.ix[10:12]"
   ]
  },
  {
   "cell_type": "markdown",
   "metadata": {},
   "source": [
    "## Find Movies by James Cameron"
   ]
  },
  {
   "cell_type": "code",
   "execution_count": null,
   "metadata": {
    "collapsed": false,
    "scrolled": false
   },
   "outputs": [],
   "source": [
    "data[data.director_name == 'James Cameron']"
   ]
  },
  {
   "cell_type": "markdown",
   "metadata": {},
   "source": [
    "## Sort films by gross earnings"
   ]
  },
  {
   "cell_type": "code",
   "execution_count": null,
   "metadata": {
    "collapsed": false,
    "scrolled": true
   },
   "outputs": [],
   "source": [
    "sorted_data = data.sort_values(by=\"gross\", ascending=False)\n",
    "sorted_data[:5]"
   ]
  },
  {
   "cell_type": "markdown",
   "metadata": {},
   "source": [
    "## Challenge! Get the top 5 films of Michael Bay"
   ]
  },
  {
   "cell_type": "code",
   "execution_count": 85,
   "metadata": {
    "collapsed": false
   },
   "outputs": [
    {
     "data": {
      "text/html": [
       "<div>\n",
       "<table border=\"1\" class=\"dataframe\">\n",
       "  <thead>\n",
       "    <tr style=\"text-align: right;\">\n",
       "      <th></th>\n",
       "      <th>movie_title</th>\n",
       "      <th>num_critic_for_reviews</th>\n",
       "    </tr>\n",
       "  </thead>\n",
       "  <tbody>\n",
       "    <tr>\n",
       "      <th>53</th>\n",
       "      <td>Transformers: Dark of the Moon</td>\n",
       "      <td>428.0</td>\n",
       "    </tr>\n",
       "    <tr>\n",
       "      <th>112</th>\n",
       "      <td>Transformers</td>\n",
       "      <td>396.0</td>\n",
       "    </tr>\n",
       "    <tr>\n",
       "      <th>37</th>\n",
       "      <td>Transformers: Age of Extinction</td>\n",
       "      <td>378.0</td>\n",
       "    </tr>\n",
       "    <tr>\n",
       "      <th>36</th>\n",
       "      <td>Transformers: Revenge of the Fallen</td>\n",
       "      <td>366.0</td>\n",
       "    </tr>\n",
       "    <tr>\n",
       "      <th>1848</th>\n",
       "      <td>Pain &amp; Gain</td>\n",
       "      <td>335.0</td>\n",
       "    </tr>\n",
       "  </tbody>\n",
       "</table>\n",
       "</div>"
      ],
      "text/plain": [
       "                               movie_title  num_critic_for_reviews\n",
       "53         Transformers: Dark of the Moon                    428.0\n",
       "112                          Transformers                    396.0\n",
       "37        Transformers: Age of Extinction                    378.0\n",
       "36    Transformers: Revenge of the Fallen                    366.0\n",
       "1848                          Pain & Gain                    335.0"
      ]
     },
     "metadata": {},
     "output_type": "display_data"
    },
    {
     "data": {
      "text/html": [
       "<div>\n",
       "<table border=\"1\" class=\"dataframe\">\n",
       "  <thead>\n",
       "    <tr style=\"text-align: right;\">\n",
       "      <th></th>\n",
       "      <th>movie_title</th>\n",
       "      <th>gross</th>\n",
       "    </tr>\n",
       "  </thead>\n",
       "  <tbody>\n",
       "    <tr>\n",
       "      <th>36</th>\n",
       "      <td>Transformers: Revenge of the Fallen</td>\n",
       "      <td>402076689.0</td>\n",
       "    </tr>\n",
       "    <tr>\n",
       "      <th>53</th>\n",
       "      <td>Transformers: Dark of the Moon</td>\n",
       "      <td>352358779.0</td>\n",
       "    </tr>\n",
       "    <tr>\n",
       "      <th>112</th>\n",
       "      <td>Transformers</td>\n",
       "      <td>318759914.0</td>\n",
       "    </tr>\n",
       "    <tr>\n",
       "      <th>37</th>\n",
       "      <td>Transformers: Age of Extinction</td>\n",
       "      <td>245428137.0</td>\n",
       "    </tr>\n",
       "    <tr>\n",
       "      <th>151</th>\n",
       "      <td>Armageddon</td>\n",
       "      <td>201573391.0</td>\n",
       "    </tr>\n",
       "  </tbody>\n",
       "</table>\n",
       "</div>"
      ],
      "text/plain": [
       "                              movie_title        gross\n",
       "36   Transformers: Revenge of the Fallen   402076689.0\n",
       "53        Transformers: Dark of the Moon   352358779.0\n",
       "112                         Transformers   318759914.0\n",
       "37       Transformers: Age of Extinction   245428137.0\n",
       "151                           Armageddon   201573391.0"
      ]
     },
     "metadata": {},
     "output_type": "display_data"
    }
   ],
   "source": [
    "criteria = ['num_critic_for_reviews', 'gross']\n",
    "r = {}\n",
    "\n",
    "for c in criteria:\n",
    "    temp = (data[data['director_name'] == 'Michael Bay']\n",
    "            .sort_values(by=c, ascending=False)[['movie_title', c]][:5])\n",
    "    r[c] = temp\n",
    "    display(temp)"
   ]
  },
  {
   "cell_type": "markdown",
   "metadata": {},
   "source": [
    "## Multiple Conditions: Find films from the Canada that have Hugh Jackman as the actor_1_name"
   ]
  },
  {
   "cell_type": "code",
   "execution_count": null,
   "metadata": {
    "collapsed": false
   },
   "outputs": [],
   "source": [
    "data[(data['country'] == 'Canada') & (data['actor_1_name'] == 'Hugh Jackman')]"
   ]
  },
  {
   "cell_type": "markdown",
   "metadata": {},
   "source": [
    "## Challenge! Find the actor who is the actor_1_name for the movie that grossed exactly 67344392. Then, find films whose actor_3_name is Piolo Pascual and actor_1_name is the person from Armageddon."
   ]
  },
  {
   "cell_type": "code",
   "execution_count": 128,
   "metadata": {
    "collapsed": false
   },
   "outputs": [
    {
     "data": {
      "text/html": [
       "<div>\n",
       "<table border=\"1\" class=\"dataframe\">\n",
       "  <thead>\n",
       "    <tr style=\"text-align: right;\">\n",
       "      <th></th>\n",
       "      <th>movie_title</th>\n",
       "      <th>actor_1_name</th>\n",
       "    </tr>\n",
       "  </thead>\n",
       "  <tbody>\n",
       "    <tr>\n",
       "      <th>347</th>\n",
       "      <td>A Good Day to Die Hard</td>\n",
       "      <td>Bruce Willis</td>\n",
       "    </tr>\n",
       "  </tbody>\n",
       "</table>\n",
       "</div>"
      ],
      "text/plain": [
       "                 movie_title  actor_1_name\n",
       "347  A Good Day to Die Hard   Bruce Willis"
      ]
     },
     "metadata": {},
     "output_type": "display_data"
    },
    {
     "data": {
      "text/html": [
       "<div>\n",
       "<table border=\"1\" class=\"dataframe\">\n",
       "  <thead>\n",
       "    <tr style=\"text-align: right;\">\n",
       "      <th></th>\n",
       "      <th>movie_title</th>\n",
       "      <th>actor_1_name</th>\n",
       "      <th>actor_3_name</th>\n",
       "    </tr>\n",
       "  </thead>\n",
       "  <tbody>\n",
       "    <tr>\n",
       "      <th>5043</th>\n",
       "      <td>Starting Over Again</td>\n",
       "      <td>Bruce Willis</td>\n",
       "      <td>Piolo Pascual</td>\n",
       "    </tr>\n",
       "  </tbody>\n",
       "</table>\n",
       "</div>"
      ],
      "text/plain": [
       "              movie_title  actor_1_name   actor_3_name\n",
       "5043  Starting Over Again  Bruce Willis  Piolo Pascual"
      ]
     },
     "metadata": {},
     "output_type": "display_data"
    }
   ],
   "source": [
    "c1 = data[(data['gross'] == 67344392)]\n",
    "\n",
    "display(c1[['movie_title', 'actor_1_name']])\n",
    "\n",
    "c2 = data[data['movie_title'].str.contains('Armageddon')]['actor_1_name']\n",
    "c3 = data[(data['actor_3_name'] == 'Piolo Pascual') & (data['actor_1_name'] == c2.values[0])]\n",
    "\n",
    "display(c3[['movie_title', 'actor_1_name', 'actor_3_name']])"
   ]
  },
  {
   "cell_type": "markdown",
   "metadata": {},
   "source": [
    "# Preprocessing"
   ]
  },
  {
   "cell_type": "code",
   "execution_count": 130,
   "metadata": {
    "collapsed": false
   },
   "outputs": [
    {
     "data": {
      "text/plain": [
       "movie_title                   object\n",
       "color                         object\n",
       "director_name                 object\n",
       "num_critic_for_reviews       float64\n",
       "duration                     float64\n",
       "director_facebook_likes      float64\n",
       "actor_3_facebook_likes       float64\n",
       "actor_2_name                  object\n",
       "actor_1_facebook_likes       float64\n",
       "gross                        float64\n",
       "genres                        object\n",
       "actor_1_name                  object\n",
       "num_voted_users              float64\n",
       "cast_total_facebook_likes    float64\n",
       "actor_3_name                  object\n",
       "facenumber_in_poster         float64\n",
       "plot_keywords                 object\n",
       "movie_imdb_link               object\n",
       "num_user_for_reviews         float64\n",
       "language                      object\n",
       "country                       object\n",
       "content_rating                object\n",
       "budget                       float64\n",
       "title_year                   float64\n",
       "actor_2_facebook_likes       float64\n",
       "imdb_score                   float64\n",
       "aspect_ratio                 float64\n",
       "movie_facebook_likes         float64\n",
       "dtype: object"
      ]
     },
     "execution_count": 130,
     "metadata": {},
     "output_type": "execute_result"
    }
   ],
   "source": [
    "data.dtypes"
   ]
  },
  {
   "cell_type": "markdown",
   "metadata": {},
   "source": [
    "## Convert actor_1_facebook_likes to integers"
   ]
  },
  {
   "cell_type": "code",
   "execution_count": null,
   "metadata": {
    "collapsed": false
   },
   "outputs": [],
   "source": [
    "# will have an error\n",
    "#data.actor_1_facebook_likes.astype(np.int64)"
   ]
  },
  {
   "cell_type": "code",
   "execution_count": 131,
   "metadata": {
    "collapsed": false
   },
   "outputs": [
    {
     "data": {
      "text/plain": [
       "movie_title                   object\n",
       "color                         object\n",
       "director_name                 object\n",
       "num_critic_for_reviews       float64\n",
       "duration                     float64\n",
       "director_facebook_likes      float64\n",
       "actor_3_facebook_likes       float64\n",
       "actor_2_name                  object\n",
       "actor_1_facebook_likes         int64\n",
       "gross                        float64\n",
       "genres                        object\n",
       "actor_1_name                  object\n",
       "num_voted_users              float64\n",
       "cast_total_facebook_likes    float64\n",
       "actor_3_name                  object\n",
       "facenumber_in_poster         float64\n",
       "plot_keywords                 object\n",
       "movie_imdb_link               object\n",
       "num_user_for_reviews         float64\n",
       "language                      object\n",
       "country                       object\n",
       "content_rating                object\n",
       "budget                       float64\n",
       "title_year                   float64\n",
       "actor_2_facebook_likes       float64\n",
       "imdb_score                   float64\n",
       "aspect_ratio                 float64\n",
       "movie_facebook_likes         float64\n",
       "dtype: object"
      ]
     },
     "execution_count": 131,
     "metadata": {},
     "output_type": "execute_result"
    }
   ],
   "source": [
    "data['actor_1_facebook_likes'] = data['actor_1_facebook_likes'].fillna(0)\n",
    "data['actor_1_facebook_likes'] = data['actor_1_facebook_likes'].astype(np.int64)\n",
    "data.dtypes"
   ]
  },
  {
   "cell_type": "markdown",
   "metadata": {},
   "source": [
    "## Apply function for each cell\n",
    "Actually, one can think of a lambda as a nameless function."
   ]
  },
  {
   "cell_type": "code",
   "execution_count": 129,
   "metadata": {
    "collapsed": false
   },
   "outputs": [
    {
     "data": {
      "text/plain": [
       "0     31.622777\n",
       "1    200.000000\n",
       "2    104.880885\n",
       "3    164.316767\n",
       "4     11.445523\n",
       "Name: actor_1_facebook_likes, dtype: float64"
      ]
     },
     "execution_count": 129,
     "metadata": {},
     "output_type": "execute_result"
    }
   ],
   "source": [
    "data.actor_1_facebook_likes.apply(lambda x: np.sqrt(x))[:5]"
   ]
  },
  {
   "cell_type": "markdown",
   "metadata": {},
   "source": [
    "## Clean titles\n"
   ]
  },
  {
   "cell_type": "code",
   "execution_count": null,
   "metadata": {
    "collapsed": false
   },
   "outputs": [],
   "source": [
    "data.movie_title.tolist()[:5]"
   ]
  },
  {
   "cell_type": "code",
   "execution_count": null,
   "metadata": {
    "collapsed": false
   },
   "outputs": [],
   "source": [
    "data.movie_title[:10].apply(\n",
    "    lambda x: x.encode().decode('unicode_escape').encode('ascii','ignore')).tolist()"
   ]
  },
  {
   "cell_type": "code",
   "execution_count": null,
   "metadata": {
    "collapsed": false
   },
   "outputs": [],
   "source": [
    "# a weakness though is that it removes enye\n",
    "print(data[data.movie_title.str.contains(\"ñ\")][\"movie_title\"])\n",
    "print(\"The following removed the enye:\")\n",
    "print(data[data.movie_title.str.contains(\"ñ\")][\"movie_title\"].apply(\n",
    "    lambda x: x.encode().decode('unicode_escape').encode('ascii','ignore')).tolist())"
   ]
  },
  {
   "cell_type": "code",
   "execution_count": null,
   "metadata": {
    "collapsed": false
   },
   "outputs": [],
   "source": [
    "data[\"movie_title\"] = data[\"movie_title\"].apply(\n",
    "    lambda x: x.encode().decode('unicode_escape').encode('ascii','ignore'))"
   ]
  },
  {
   "cell_type": "markdown",
   "metadata": {},
   "source": [
    "## Clean all\n",
    "\n",
    "Replace values with 0. Of course, imputation could be done here, but other libraries are need for it.\n",
    "\n",
    "We are adding a new reference to the original data. Only the new cells are allocated memory. The unchanged cells are referenced to the original."
   ]
  },
  {
   "cell_type": "code",
   "execution_count": 206,
   "metadata": {
    "collapsed": false
   },
   "outputs": [],
   "source": [
    "cleaned_data = data.fillna(0)"
   ]
  },
  {
   "cell_type": "markdown",
   "metadata": {},
   "source": [
    "## Data Summaries"
   ]
  },
  {
   "cell_type": "code",
   "execution_count": 133,
   "metadata": {
    "collapsed": false
   },
   "outputs": [
    {
     "data": {
      "text/html": [
       "<div>\n",
       "<table border=\"1\" class=\"dataframe\">\n",
       "  <thead>\n",
       "    <tr style=\"text-align: right;\">\n",
       "      <th></th>\n",
       "      <th>num_critic_for_reviews</th>\n",
       "      <th>duration</th>\n",
       "      <th>director_facebook_likes</th>\n",
       "      <th>actor_3_facebook_likes</th>\n",
       "      <th>actor_1_facebook_likes</th>\n",
       "      <th>gross</th>\n",
       "      <th>num_voted_users</th>\n",
       "      <th>cast_total_facebook_likes</th>\n",
       "      <th>facenumber_in_poster</th>\n",
       "      <th>num_user_for_reviews</th>\n",
       "      <th>budget</th>\n",
       "      <th>title_year</th>\n",
       "      <th>actor_2_facebook_likes</th>\n",
       "      <th>imdb_score</th>\n",
       "      <th>aspect_ratio</th>\n",
       "      <th>movie_facebook_likes</th>\n",
       "    </tr>\n",
       "  </thead>\n",
       "  <tbody>\n",
       "    <tr>\n",
       "      <th>count</th>\n",
       "      <td>5044.000000</td>\n",
       "      <td>5044.000000</td>\n",
       "      <td>5044.000000</td>\n",
       "      <td>5044.000000</td>\n",
       "      <td>5044.000000</td>\n",
       "      <td>5.044000e+03</td>\n",
       "      <td>5.044000e+03</td>\n",
       "      <td>5044.000000</td>\n",
       "      <td>5044.000000</td>\n",
       "      <td>5044.000000</td>\n",
       "      <td>5.044000e+03</td>\n",
       "      <td>5044.000000</td>\n",
       "      <td>5044.000000</td>\n",
       "      <td>5044.000000</td>\n",
       "      <td>5044.000000</td>\n",
       "      <td>5044.000000</td>\n",
       "    </tr>\n",
       "    <tr>\n",
       "      <th>mean</th>\n",
       "      <td>138.776764</td>\n",
       "      <td>106.861023</td>\n",
       "      <td>672.218279</td>\n",
       "      <td>641.940722</td>\n",
       "      <td>6549.642546</td>\n",
       "      <td>3.996434e+07</td>\n",
       "      <td>8.365157e+04</td>\n",
       "      <td>9697.140960</td>\n",
       "      <td>1.367367</td>\n",
       "      <td>271.581086</td>\n",
       "      <td>3.586720e+07</td>\n",
       "      <td>1959.596749</td>\n",
       "      <td>1647.169905</td>\n",
       "      <td>6.440860</td>\n",
       "      <td>2.075135</td>\n",
       "      <td>7524.472443</td>\n",
       "    </tr>\n",
       "    <tr>\n",
       "      <th>std</th>\n",
       "      <td>121.795659</td>\n",
       "      <td>25.869713</td>\n",
       "      <td>2785.611681</td>\n",
       "      <td>1661.668020</td>\n",
       "      <td>15011.110715</td>\n",
       "      <td>6.483380e+07</td>\n",
       "      <td>1.384765e+05</td>\n",
       "      <td>18162.511577</td>\n",
       "      <td>2.012073</td>\n",
       "      <td>377.585698</td>\n",
       "      <td>1.961367e+08</td>\n",
       "      <td>290.153085</td>\n",
       "      <td>4037.759216</td>\n",
       "      <td>1.128655</td>\n",
       "      <td>1.447240</td>\n",
       "      <td>19318.820075</td>\n",
       "    </tr>\n",
       "    <tr>\n",
       "      <th>min</th>\n",
       "      <td>0.000000</td>\n",
       "      <td>0.000000</td>\n",
       "      <td>0.000000</td>\n",
       "      <td>0.000000</td>\n",
       "      <td>0.000000</td>\n",
       "      <td>0.000000e+00</td>\n",
       "      <td>0.000000e+00</td>\n",
       "      <td>0.000000</td>\n",
       "      <td>0.000000</td>\n",
       "      <td>0.000000</td>\n",
       "      <td>0.000000e+00</td>\n",
       "      <td>0.000000</td>\n",
       "      <td>0.000000</td>\n",
       "      <td>0.000000</td>\n",
       "      <td>0.000000</td>\n",
       "      <td>0.000000</td>\n",
       "    </tr>\n",
       "    <tr>\n",
       "      <th>25%</th>\n",
       "      <td>48.000000</td>\n",
       "      <td>93.000000</td>\n",
       "      <td>6.000000</td>\n",
       "      <td>130.000000</td>\n",
       "      <td>611.000000</td>\n",
       "      <td>3.031302e+05</td>\n",
       "      <td>8.581750e+03</td>\n",
       "      <td>1411.000000</td>\n",
       "      <td>0.000000</td>\n",
       "      <td>64.000000</td>\n",
       "      <td>3.000000e+06</td>\n",
       "      <td>1998.000000</td>\n",
       "      <td>278.000000</td>\n",
       "      <td>5.800000</td>\n",
       "      <td>1.850000</td>\n",
       "      <td>0.000000</td>\n",
       "    </tr>\n",
       "    <tr>\n",
       "      <th>50%</th>\n",
       "      <td>108.500000</td>\n",
       "      <td>103.000000</td>\n",
       "      <td>45.000000</td>\n",
       "      <td>367.000000</td>\n",
       "      <td>985.500000</td>\n",
       "      <td>1.522984e+07</td>\n",
       "      <td>3.435750e+04</td>\n",
       "      <td>3090.000000</td>\n",
       "      <td>1.000000</td>\n",
       "      <td>155.000000</td>\n",
       "      <td>1.500000e+07</td>\n",
       "      <td>2005.000000</td>\n",
       "      <td>595.000000</td>\n",
       "      <td>6.600000</td>\n",
       "      <td>1.850000</td>\n",
       "      <td>165.500000</td>\n",
       "    </tr>\n",
       "    <tr>\n",
       "      <th>75%</th>\n",
       "      <td>194.000000</td>\n",
       "      <td>118.000000</td>\n",
       "      <td>189.000000</td>\n",
       "      <td>635.000000</td>\n",
       "      <td>11000.000000</td>\n",
       "      <td>5.133721e+07</td>\n",
       "      <td>9.627100e+04</td>\n",
       "      <td>13754.250000</td>\n",
       "      <td>2.000000</td>\n",
       "      <td>324.000000</td>\n",
       "      <td>4.000000e+07</td>\n",
       "      <td>2011.000000</td>\n",
       "      <td>918.000000</td>\n",
       "      <td>7.200000</td>\n",
       "      <td>2.350000</td>\n",
       "      <td>3000.000000</td>\n",
       "    </tr>\n",
       "    <tr>\n",
       "      <th>max</th>\n",
       "      <td>813.000000</td>\n",
       "      <td>511.000000</td>\n",
       "      <td>23000.000000</td>\n",
       "      <td>23000.000000</td>\n",
       "      <td>640000.000000</td>\n",
       "      <td>7.605058e+08</td>\n",
       "      <td>1.689764e+06</td>\n",
       "      <td>656730.000000</td>\n",
       "      <td>43.000000</td>\n",
       "      <td>5060.000000</td>\n",
       "      <td>1.221550e+10</td>\n",
       "      <td>2016.000000</td>\n",
       "      <td>137000.000000</td>\n",
       "      <td>9.500000</td>\n",
       "      <td>16.000000</td>\n",
       "      <td>349000.000000</td>\n",
       "    </tr>\n",
       "  </tbody>\n",
       "</table>\n",
       "</div>"
      ],
      "text/plain": [
       "       num_critic_for_reviews     duration  director_facebook_likes  \\\n",
       "count             5044.000000  5044.000000              5044.000000   \n",
       "mean               138.776764   106.861023               672.218279   \n",
       "std                121.795659    25.869713              2785.611681   \n",
       "min                  0.000000     0.000000                 0.000000   \n",
       "25%                 48.000000    93.000000                 6.000000   \n",
       "50%                108.500000   103.000000                45.000000   \n",
       "75%                194.000000   118.000000               189.000000   \n",
       "max                813.000000   511.000000             23000.000000   \n",
       "\n",
       "       actor_3_facebook_likes  actor_1_facebook_likes         gross  \\\n",
       "count             5044.000000             5044.000000  5.044000e+03   \n",
       "mean               641.940722             6549.642546  3.996434e+07   \n",
       "std               1661.668020            15011.110715  6.483380e+07   \n",
       "min                  0.000000                0.000000  0.000000e+00   \n",
       "25%                130.000000              611.000000  3.031302e+05   \n",
       "50%                367.000000              985.500000  1.522984e+07   \n",
       "75%                635.000000            11000.000000  5.133721e+07   \n",
       "max              23000.000000           640000.000000  7.605058e+08   \n",
       "\n",
       "       num_voted_users  cast_total_facebook_likes  facenumber_in_poster  \\\n",
       "count     5.044000e+03                5044.000000           5044.000000   \n",
       "mean      8.365157e+04                9697.140960              1.367367   \n",
       "std       1.384765e+05               18162.511577              2.012073   \n",
       "min       0.000000e+00                   0.000000              0.000000   \n",
       "25%       8.581750e+03                1411.000000              0.000000   \n",
       "50%       3.435750e+04                3090.000000              1.000000   \n",
       "75%       9.627100e+04               13754.250000              2.000000   \n",
       "max       1.689764e+06              656730.000000             43.000000   \n",
       "\n",
       "       num_user_for_reviews        budget   title_year  \\\n",
       "count           5044.000000  5.044000e+03  5044.000000   \n",
       "mean             271.581086  3.586720e+07  1959.596749   \n",
       "std              377.585698  1.961367e+08   290.153085   \n",
       "min                0.000000  0.000000e+00     0.000000   \n",
       "25%               64.000000  3.000000e+06  1998.000000   \n",
       "50%              155.000000  1.500000e+07  2005.000000   \n",
       "75%              324.000000  4.000000e+07  2011.000000   \n",
       "max             5060.000000  1.221550e+10  2016.000000   \n",
       "\n",
       "       actor_2_facebook_likes   imdb_score  aspect_ratio  movie_facebook_likes  \n",
       "count             5044.000000  5044.000000   5044.000000           5044.000000  \n",
       "mean              1647.169905     6.440860      2.075135           7524.472443  \n",
       "std               4037.759216     1.128655      1.447240          19318.820075  \n",
       "min                  0.000000     0.000000      0.000000              0.000000  \n",
       "25%                278.000000     5.800000      1.850000              0.000000  \n",
       "50%                595.000000     6.600000      1.850000            165.500000  \n",
       "75%                918.000000     7.200000      2.350000           3000.000000  \n",
       "max             137000.000000     9.500000     16.000000         349000.000000  "
      ]
     },
     "execution_count": 133,
     "metadata": {},
     "output_type": "execute_result"
    }
   ],
   "source": [
    "cleaned_data.describe()"
   ]
  },
  {
   "cell_type": "markdown",
   "metadata": {},
   "source": [
    "## Data Correlations"
   ]
  },
  {
   "cell_type": "code",
   "execution_count": 134,
   "metadata": {
    "collapsed": false
   },
   "outputs": [
    {
     "data": {
      "text/html": [
       "<div>\n",
       "<table border=\"1\" class=\"dataframe\">\n",
       "  <thead>\n",
       "    <tr style=\"text-align: right;\">\n",
       "      <th></th>\n",
       "      <th>num_critic_for_reviews</th>\n",
       "      <th>duration</th>\n",
       "      <th>director_facebook_likes</th>\n",
       "      <th>actor_3_facebook_likes</th>\n",
       "      <th>actor_1_facebook_likes</th>\n",
       "      <th>gross</th>\n",
       "      <th>num_voted_users</th>\n",
       "      <th>cast_total_facebook_likes</th>\n",
       "      <th>facenumber_in_poster</th>\n",
       "      <th>num_user_for_reviews</th>\n",
       "      <th>budget</th>\n",
       "      <th>title_year</th>\n",
       "      <th>actor_2_facebook_likes</th>\n",
       "      <th>imdb_score</th>\n",
       "      <th>aspect_ratio</th>\n",
       "      <th>movie_facebook_likes</th>\n",
       "    </tr>\n",
       "  </thead>\n",
       "  <tbody>\n",
       "    <tr>\n",
       "      <th>num_critic_for_reviews</th>\n",
       "      <td>1.000000</td>\n",
       "      <td>0.269957</td>\n",
       "      <td>0.184942</td>\n",
       "      <td>0.273130</td>\n",
       "      <td>0.193322</td>\n",
       "      <td>0.524884</td>\n",
       "      <td>0.626649</td>\n",
       "      <td>0.266189</td>\n",
       "      <td>-0.033755</td>\n",
       "      <td>0.612024</td>\n",
       "      <td>0.127874</td>\n",
       "      <td>0.153370</td>\n",
       "      <td>0.284396</td>\n",
       "      <td>0.299959</td>\n",
       "      <td>0.055258</td>\n",
       "      <td>0.682596</td>\n",
       "    </tr>\n",
       "    <tr>\n",
       "      <th>duration</th>\n",
       "      <td>0.269957</td>\n",
       "      <td>1.000000</td>\n",
       "      <td>0.161057</td>\n",
       "      <td>0.123878</td>\n",
       "      <td>0.089381</td>\n",
       "      <td>0.254773</td>\n",
       "      <td>0.313770</td>\n",
       "      <td>0.123360</td>\n",
       "      <td>0.004985</td>\n",
       "      <td>0.329757</td>\n",
       "      <td>0.074785</td>\n",
       "      <td>0.261492</td>\n",
       "      <td>0.131934</td>\n",
       "      <td>0.259765</td>\n",
       "      <td>-0.016001</td>\n",
       "      <td>0.195677</td>\n",
       "    </tr>\n",
       "    <tr>\n",
       "      <th>director_facebook_likes</th>\n",
       "      <td>0.184942</td>\n",
       "      <td>0.161057</td>\n",
       "      <td>1.000000</td>\n",
       "      <td>0.121308</td>\n",
       "      <td>0.092385</td>\n",
       "      <td>0.149975</td>\n",
       "      <td>0.298072</td>\n",
       "      <td>0.121131</td>\n",
       "      <td>-0.041191</td>\n",
       "      <td>0.223910</td>\n",
       "      <td>0.024609</td>\n",
       "      <td>0.032851</td>\n",
       "      <td>0.121085</td>\n",
       "      <td>0.162214</td>\n",
       "      <td>0.006091</td>\n",
       "      <td>0.162117</td>\n",
       "    </tr>\n",
       "    <tr>\n",
       "      <th>actor_3_facebook_likes</th>\n",
       "      <td>0.273130</td>\n",
       "      <td>0.123878</td>\n",
       "      <td>0.121308</td>\n",
       "      <td>1.000000</td>\n",
       "      <td>0.250455</td>\n",
       "      <td>0.321765</td>\n",
       "      <td>0.287906</td>\n",
       "      <td>0.474367</td>\n",
       "      <td>0.100510</td>\n",
       "      <td>0.231251</td>\n",
       "      <td>0.051278</td>\n",
       "      <td>0.032404</td>\n",
       "      <td>0.559993</td>\n",
       "      <td>0.052168</td>\n",
       "      <td>0.021094</td>\n",
       "      <td>0.279254</td>\n",
       "    </tr>\n",
       "    <tr>\n",
       "      <th>actor_1_facebook_likes</th>\n",
       "      <td>0.193322</td>\n",
       "      <td>0.089381</td>\n",
       "      <td>0.092385</td>\n",
       "      <td>0.250455</td>\n",
       "      <td>1.000000</td>\n",
       "      <td>0.167355</td>\n",
       "      <td>0.193137</td>\n",
       "      <td>0.951672</td>\n",
       "      <td>0.072998</td>\n",
       "      <td>0.146831</td>\n",
       "      <td>0.027301</td>\n",
       "      <td>0.054483</td>\n",
       "      <td>0.390789</td>\n",
       "      <td>0.076080</td>\n",
       "      <td>0.001651</td>\n",
       "      <td>0.135558</td>\n",
       "    </tr>\n",
       "    <tr>\n",
       "      <th>gross</th>\n",
       "      <td>0.524884</td>\n",
       "      <td>0.254773</td>\n",
       "      <td>0.149975</td>\n",
       "      <td>0.321765</td>\n",
       "      <td>0.167355</td>\n",
       "      <td>1.000000</td>\n",
       "      <td>0.651554</td>\n",
       "      <td>0.259799</td>\n",
       "      <td>-0.023865</td>\n",
       "      <td>0.582966</td>\n",
       "      <td>0.123523</td>\n",
       "      <td>0.093693</td>\n",
       "      <td>0.284105</td>\n",
       "      <td>0.176566</td>\n",
       "      <td>0.026066</td>\n",
       "      <td>0.392661</td>\n",
       "    </tr>\n",
       "    <tr>\n",
       "      <th>num_voted_users</th>\n",
       "      <td>0.626649</td>\n",
       "      <td>0.313770</td>\n",
       "      <td>0.298072</td>\n",
       "      <td>0.287906</td>\n",
       "      <td>0.193137</td>\n",
       "      <td>0.651554</td>\n",
       "      <td>1.000000</td>\n",
       "      <td>0.265958</td>\n",
       "      <td>-0.026623</td>\n",
       "      <td>0.798766</td>\n",
       "      <td>0.087497</td>\n",
       "      <td>0.058642</td>\n",
       "      <td>0.271243</td>\n",
       "      <td>0.410305</td>\n",
       "      <td>0.045424</td>\n",
       "      <td>0.537943</td>\n",
       "    </tr>\n",
       "    <tr>\n",
       "      <th>cast_total_facebook_likes</th>\n",
       "      <td>0.266189</td>\n",
       "      <td>0.123360</td>\n",
       "      <td>0.121131</td>\n",
       "      <td>0.474367</td>\n",
       "      <td>0.951672</td>\n",
       "      <td>0.259799</td>\n",
       "      <td>0.265958</td>\n",
       "      <td>1.000000</td>\n",
       "      <td>0.091973</td>\n",
       "      <td>0.208067</td>\n",
       "      <td>0.041856</td>\n",
       "      <td>0.059912</td>\n",
       "      <td>0.628616</td>\n",
       "      <td>0.086112</td>\n",
       "      <td>0.010541</td>\n",
       "      <td>0.209818</td>\n",
       "    </tr>\n",
       "    <tr>\n",
       "      <th>facenumber_in_poster</th>\n",
       "      <td>-0.033755</td>\n",
       "      <td>0.004985</td>\n",
       "      <td>-0.041191</td>\n",
       "      <td>0.100510</td>\n",
       "      <td>0.072998</td>\n",
       "      <td>-0.023865</td>\n",
       "      <td>-0.026623</td>\n",
       "      <td>0.091973</td>\n",
       "      <td>1.000000</td>\n",
       "      <td>-0.068176</td>\n",
       "      <td>-0.018937</td>\n",
       "      <td>-0.018798</td>\n",
       "      <td>0.072320</td>\n",
       "      <td>-0.061238</td>\n",
       "      <td>0.002017</td>\n",
       "      <td>0.007873</td>\n",
       "    </tr>\n",
       "    <tr>\n",
       "      <th>num_user_for_reviews</th>\n",
       "      <td>0.612024</td>\n",
       "      <td>0.329757</td>\n",
       "      <td>0.223910</td>\n",
       "      <td>0.231251</td>\n",
       "      <td>0.146831</td>\n",
       "      <td>0.582966</td>\n",
       "      <td>0.798766</td>\n",
       "      <td>0.208067</td>\n",
       "      <td>-0.068176</td>\n",
       "      <td>1.000000</td>\n",
       "      <td>0.093058</td>\n",
       "      <td>0.072690</td>\n",
       "      <td>0.220675</td>\n",
       "      <td>0.289641</td>\n",
       "      <td>0.045000</td>\n",
       "      <td>0.401228</td>\n",
       "    </tr>\n",
       "    <tr>\n",
       "      <th>budget</th>\n",
       "      <td>0.127874</td>\n",
       "      <td>0.074785</td>\n",
       "      <td>0.024609</td>\n",
       "      <td>0.051278</td>\n",
       "      <td>0.027301</td>\n",
       "      <td>0.123523</td>\n",
       "      <td>0.087497</td>\n",
       "      <td>0.041856</td>\n",
       "      <td>-0.018937</td>\n",
       "      <td>0.093058</td>\n",
       "      <td>1.000000</td>\n",
       "      <td>0.028274</td>\n",
       "      <td>0.048909</td>\n",
       "      <td>0.025891</td>\n",
       "      <td>0.007470</td>\n",
       "      <td>0.066176</td>\n",
       "    </tr>\n",
       "    <tr>\n",
       "      <th>title_year</th>\n",
       "      <td>0.153370</td>\n",
       "      <td>0.261492</td>\n",
       "      <td>0.032851</td>\n",
       "      <td>0.032404</td>\n",
       "      <td>0.054483</td>\n",
       "      <td>0.093693</td>\n",
       "      <td>0.058642</td>\n",
       "      <td>0.059912</td>\n",
       "      <td>-0.018798</td>\n",
       "      <td>0.072690</td>\n",
       "      <td>0.028274</td>\n",
       "      <td>1.000000</td>\n",
       "      <td>0.047642</td>\n",
       "      <td>-0.155797</td>\n",
       "      <td>-0.367360</td>\n",
       "      <td>0.033245</td>\n",
       "    </tr>\n",
       "    <tr>\n",
       "      <th>actor_2_facebook_likes</th>\n",
       "      <td>0.284396</td>\n",
       "      <td>0.131934</td>\n",
       "      <td>0.121085</td>\n",
       "      <td>0.559993</td>\n",
       "      <td>0.390789</td>\n",
       "      <td>0.284105</td>\n",
       "      <td>0.271243</td>\n",
       "      <td>0.628616</td>\n",
       "      <td>0.072320</td>\n",
       "      <td>0.220675</td>\n",
       "      <td>0.048909</td>\n",
       "      <td>0.047642</td>\n",
       "      <td>1.000000</td>\n",
       "      <td>0.083593</td>\n",
       "      <td>0.020407</td>\n",
       "      <td>0.243722</td>\n",
       "    </tr>\n",
       "    <tr>\n",
       "      <th>imdb_score</th>\n",
       "      <td>0.299959</td>\n",
       "      <td>0.259765</td>\n",
       "      <td>0.162214</td>\n",
       "      <td>0.052168</td>\n",
       "      <td>0.076080</td>\n",
       "      <td>0.176566</td>\n",
       "      <td>0.410305</td>\n",
       "      <td>0.086112</td>\n",
       "      <td>-0.061238</td>\n",
       "      <td>0.289641</td>\n",
       "      <td>0.025891</td>\n",
       "      <td>-0.155797</td>\n",
       "      <td>0.083593</td>\n",
       "      <td>1.000000</td>\n",
       "      <td>0.095499</td>\n",
       "      <td>0.246687</td>\n",
       "    </tr>\n",
       "    <tr>\n",
       "      <th>aspect_ratio</th>\n",
       "      <td>0.055258</td>\n",
       "      <td>-0.016001</td>\n",
       "      <td>0.006091</td>\n",
       "      <td>0.021094</td>\n",
       "      <td>0.001651</td>\n",
       "      <td>0.026066</td>\n",
       "      <td>0.045424</td>\n",
       "      <td>0.010541</td>\n",
       "      <td>0.002017</td>\n",
       "      <td>0.045000</td>\n",
       "      <td>0.007470</td>\n",
       "      <td>-0.367360</td>\n",
       "      <td>0.020407</td>\n",
       "      <td>0.095499</td>\n",
       "      <td>1.000000</td>\n",
       "      <td>0.060339</td>\n",
       "    </tr>\n",
       "    <tr>\n",
       "      <th>movie_facebook_likes</th>\n",
       "      <td>0.682596</td>\n",
       "      <td>0.195677</td>\n",
       "      <td>0.162117</td>\n",
       "      <td>0.279254</td>\n",
       "      <td>0.135558</td>\n",
       "      <td>0.392661</td>\n",
       "      <td>0.537943</td>\n",
       "      <td>0.209818</td>\n",
       "      <td>0.007873</td>\n",
       "      <td>0.401228</td>\n",
       "      <td>0.066176</td>\n",
       "      <td>0.033245</td>\n",
       "      <td>0.243722</td>\n",
       "      <td>0.246687</td>\n",
       "      <td>0.060339</td>\n",
       "      <td>1.000000</td>\n",
       "    </tr>\n",
       "  </tbody>\n",
       "</table>\n",
       "</div>"
      ],
      "text/plain": [
       "                           num_critic_for_reviews  duration  \\\n",
       "num_critic_for_reviews                   1.000000  0.269957   \n",
       "duration                                 0.269957  1.000000   \n",
       "director_facebook_likes                  0.184942  0.161057   \n",
       "actor_3_facebook_likes                   0.273130  0.123878   \n",
       "actor_1_facebook_likes                   0.193322  0.089381   \n",
       "gross                                    0.524884  0.254773   \n",
       "num_voted_users                          0.626649  0.313770   \n",
       "cast_total_facebook_likes                0.266189  0.123360   \n",
       "facenumber_in_poster                    -0.033755  0.004985   \n",
       "num_user_for_reviews                     0.612024  0.329757   \n",
       "budget                                   0.127874  0.074785   \n",
       "title_year                               0.153370  0.261492   \n",
       "actor_2_facebook_likes                   0.284396  0.131934   \n",
       "imdb_score                               0.299959  0.259765   \n",
       "aspect_ratio                             0.055258 -0.016001   \n",
       "movie_facebook_likes                     0.682596  0.195677   \n",
       "\n",
       "                           director_facebook_likes  actor_3_facebook_likes  \\\n",
       "num_critic_for_reviews                    0.184942                0.273130   \n",
       "duration                                  0.161057                0.123878   \n",
       "director_facebook_likes                   1.000000                0.121308   \n",
       "actor_3_facebook_likes                    0.121308                1.000000   \n",
       "actor_1_facebook_likes                    0.092385                0.250455   \n",
       "gross                                     0.149975                0.321765   \n",
       "num_voted_users                           0.298072                0.287906   \n",
       "cast_total_facebook_likes                 0.121131                0.474367   \n",
       "facenumber_in_poster                     -0.041191                0.100510   \n",
       "num_user_for_reviews                      0.223910                0.231251   \n",
       "budget                                    0.024609                0.051278   \n",
       "title_year                                0.032851                0.032404   \n",
       "actor_2_facebook_likes                    0.121085                0.559993   \n",
       "imdb_score                                0.162214                0.052168   \n",
       "aspect_ratio                              0.006091                0.021094   \n",
       "movie_facebook_likes                      0.162117                0.279254   \n",
       "\n",
       "                           actor_1_facebook_likes     gross  num_voted_users  \\\n",
       "num_critic_for_reviews                   0.193322  0.524884         0.626649   \n",
       "duration                                 0.089381  0.254773         0.313770   \n",
       "director_facebook_likes                  0.092385  0.149975         0.298072   \n",
       "actor_3_facebook_likes                   0.250455  0.321765         0.287906   \n",
       "actor_1_facebook_likes                   1.000000  0.167355         0.193137   \n",
       "gross                                    0.167355  1.000000         0.651554   \n",
       "num_voted_users                          0.193137  0.651554         1.000000   \n",
       "cast_total_facebook_likes                0.951672  0.259799         0.265958   \n",
       "facenumber_in_poster                     0.072998 -0.023865        -0.026623   \n",
       "num_user_for_reviews                     0.146831  0.582966         0.798766   \n",
       "budget                                   0.027301  0.123523         0.087497   \n",
       "title_year                               0.054483  0.093693         0.058642   \n",
       "actor_2_facebook_likes                   0.390789  0.284105         0.271243   \n",
       "imdb_score                               0.076080  0.176566         0.410305   \n",
       "aspect_ratio                             0.001651  0.026066         0.045424   \n",
       "movie_facebook_likes                     0.135558  0.392661         0.537943   \n",
       "\n",
       "                           cast_total_facebook_likes  facenumber_in_poster  \\\n",
       "num_critic_for_reviews                      0.266189             -0.033755   \n",
       "duration                                    0.123360              0.004985   \n",
       "director_facebook_likes                     0.121131             -0.041191   \n",
       "actor_3_facebook_likes                      0.474367              0.100510   \n",
       "actor_1_facebook_likes                      0.951672              0.072998   \n",
       "gross                                       0.259799             -0.023865   \n",
       "num_voted_users                             0.265958             -0.026623   \n",
       "cast_total_facebook_likes                   1.000000              0.091973   \n",
       "facenumber_in_poster                        0.091973              1.000000   \n",
       "num_user_for_reviews                        0.208067             -0.068176   \n",
       "budget                                      0.041856             -0.018937   \n",
       "title_year                                  0.059912             -0.018798   \n",
       "actor_2_facebook_likes                      0.628616              0.072320   \n",
       "imdb_score                                  0.086112             -0.061238   \n",
       "aspect_ratio                                0.010541              0.002017   \n",
       "movie_facebook_likes                        0.209818              0.007873   \n",
       "\n",
       "                           num_user_for_reviews    budget  title_year  \\\n",
       "num_critic_for_reviews                 0.612024  0.127874    0.153370   \n",
       "duration                               0.329757  0.074785    0.261492   \n",
       "director_facebook_likes                0.223910  0.024609    0.032851   \n",
       "actor_3_facebook_likes                 0.231251  0.051278    0.032404   \n",
       "actor_1_facebook_likes                 0.146831  0.027301    0.054483   \n",
       "gross                                  0.582966  0.123523    0.093693   \n",
       "num_voted_users                        0.798766  0.087497    0.058642   \n",
       "cast_total_facebook_likes              0.208067  0.041856    0.059912   \n",
       "facenumber_in_poster                  -0.068176 -0.018937   -0.018798   \n",
       "num_user_for_reviews                   1.000000  0.093058    0.072690   \n",
       "budget                                 0.093058  1.000000    0.028274   \n",
       "title_year                             0.072690  0.028274    1.000000   \n",
       "actor_2_facebook_likes                 0.220675  0.048909    0.047642   \n",
       "imdb_score                             0.289641  0.025891   -0.155797   \n",
       "aspect_ratio                           0.045000  0.007470   -0.367360   \n",
       "movie_facebook_likes                   0.401228  0.066176    0.033245   \n",
       "\n",
       "                           actor_2_facebook_likes  imdb_score  aspect_ratio  \\\n",
       "num_critic_for_reviews                   0.284396    0.299959      0.055258   \n",
       "duration                                 0.131934    0.259765     -0.016001   \n",
       "director_facebook_likes                  0.121085    0.162214      0.006091   \n",
       "actor_3_facebook_likes                   0.559993    0.052168      0.021094   \n",
       "actor_1_facebook_likes                   0.390789    0.076080      0.001651   \n",
       "gross                                    0.284105    0.176566      0.026066   \n",
       "num_voted_users                          0.271243    0.410305      0.045424   \n",
       "cast_total_facebook_likes                0.628616    0.086112      0.010541   \n",
       "facenumber_in_poster                     0.072320   -0.061238      0.002017   \n",
       "num_user_for_reviews                     0.220675    0.289641      0.045000   \n",
       "budget                                   0.048909    0.025891      0.007470   \n",
       "title_year                               0.047642   -0.155797     -0.367360   \n",
       "actor_2_facebook_likes                   1.000000    0.083593      0.020407   \n",
       "imdb_score                               0.083593    1.000000      0.095499   \n",
       "aspect_ratio                             0.020407    0.095499      1.000000   \n",
       "movie_facebook_likes                     0.243722    0.246687      0.060339   \n",
       "\n",
       "                           movie_facebook_likes  \n",
       "num_critic_for_reviews                 0.682596  \n",
       "duration                               0.195677  \n",
       "director_facebook_likes                0.162117  \n",
       "actor_3_facebook_likes                 0.279254  \n",
       "actor_1_facebook_likes                 0.135558  \n",
       "gross                                  0.392661  \n",
       "num_voted_users                        0.537943  \n",
       "cast_total_facebook_likes              0.209818  \n",
       "facenumber_in_poster                   0.007873  \n",
       "num_user_for_reviews                   0.401228  \n",
       "budget                                 0.066176  \n",
       "title_year                             0.033245  \n",
       "actor_2_facebook_likes                 0.243722  \n",
       "imdb_score                             0.246687  \n",
       "aspect_ratio                           0.060339  \n",
       "movie_facebook_likes                   1.000000  "
      ]
     },
     "execution_count": 134,
     "metadata": {},
     "output_type": "execute_result"
    }
   ],
   "source": [
    "cleaned_data.corr()"
   ]
  },
  {
   "cell_type": "markdown",
   "metadata": {},
   "source": [
    "## Outliers : Clipping to the 99th percentile\n",
    "This is just one of the many rules-of-thumb used in practice. It doesn't always work, especially if one has too many outliers."
   ]
  },
  {
   "cell_type": "code",
   "execution_count": null,
   "metadata": {
    "collapsed": false
   },
   "outputs": [],
   "source": [
    "cleaned_data.duration.quantile(0.99)"
   ]
  },
  {
   "cell_type": "code",
   "execution_count": null,
   "metadata": {
    "collapsed": false,
    "scrolled": true
   },
   "outputs": [],
   "source": [
    "cleaned_data['duration'] = np.clip(cleaned_data['duration'], 0, 189)\n",
    "cleaned_data.describe()"
   ]
  },
  {
   "cell_type": "markdown",
   "metadata": {},
   "source": [
    "## Output to CSV file"
   ]
  },
  {
   "cell_type": "code",
   "execution_count": 135,
   "metadata": {
    "collapsed": true
   },
   "outputs": [],
   "source": [
    "cleaned_data.to_csv('movie_metadata_cleaned.csv')"
   ]
  },
  {
   "cell_type": "code",
   "execution_count": 136,
   "metadata": {
    "collapsed": false
   },
   "outputs": [
    {
     "name": "stdout",
     "output_type": "stream",
     "text": [
      ",movie_title,color,director_name,num_critic_for_reviews,duration,director_facebook_likes,actor_3_facebook_likes,actor_2_name,actor_1_facebook_likes,gross,genres,actor_1_name,num_voted_users,cast_total_facebook_likes,actor_3_name,facenumber_in_poster,plot_keywords,movie_imdb_link,num_user_for_reviews,language,country,content_rating,budget,title_year,actor_2_facebook_likes,imdb_score,aspect_ratio,movie_facebook_likes\r\n",
      "0,Avatar ,Color,James Cameron,723.0,178.0,0.0,855.0,Joel David Moore,1000,760505847.0,Action|Adventure|Fantasy|Sci-Fi,CCH Pounder,886204.0,4834.0,Wes Studi,0.0,avatar|future|marine|native|paraplegic,http://www.imdb.com/title/tt0499549/?ref_=fn_tt_tt_1,3054.0,English,USA,PG-13,237000000.0,2009.0,936.0,7.9,1.78,33000.0\r\n"
     ]
    }
   ],
   "source": [
    "!head -n 2 movie_metadata_cleaned.csv\n",
    "#!more movie_metadata_cleaned.csv P 2"
   ]
  },
  {
   "cell_type": "markdown",
   "metadata": {},
   "source": [
    "# Aggregations\n",
    "In this example, the group by statement does two things:\n",
    "\n",
    "1) groups together the dataframe by title_year\n",
    "\n",
    "2) the size() function has the title_year as the index"
   ]
  },
  {
   "cell_type": "code",
   "execution_count": null,
   "metadata": {
    "collapsed": false
   },
   "outputs": [],
   "source": [
    "cleaned_data[\"title_year\"] = cleaned_data[\"title_year\"].astype(np.int64)\n",
    "movies_per_year = cleaned_data.groupby(\"title_year\").size()\n",
    "movies_per_year[-5:]"
   ]
  },
  {
   "cell_type": "code",
   "execution_count": 139,
   "metadata": {
    "collapsed": false,
    "scrolled": true
   },
   "outputs": [
    {
     "data": {
      "text/plain": [
       "title_year\n",
       "0.0        4389.361111\n",
       "1916.0      691.000000\n",
       "1920.0        0.000000\n",
       "1925.0      226.000000\n",
       "1927.0    12000.000000\n",
       "1929.0      546.500000\n",
       "1930.0      279.000000\n",
       "1932.0      213.000000\n",
       "1933.0      383.500000\n",
       "1934.0        0.000000\n",
       "1935.0     1000.000000\n",
       "1936.0      102.000000\n",
       "1937.0      168.500000\n",
       "1938.0       30.000000\n",
       "1939.0    10000.000000\n",
       "1940.0      756.800000\n",
       "1941.0        0.000000\n",
       "1942.0    11500.000000\n",
       "1943.0      116.000000\n",
       "1944.0      144.000000\n",
       "1945.0      142.250000\n",
       "1946.0    13801.000000\n",
       "1947.0       14.666667\n",
       "1948.0      123.000000\n",
       "1949.0      672.500000\n",
       "1950.0      456.000000\n",
       "1951.0     2146.000000\n",
       "1952.0      948.500000\n",
       "1953.0      366.250000\n",
       "1954.0     2275.200000\n",
       "              ...     \n",
       "1987.0     2830.468750\n",
       "1988.0     3308.612903\n",
       "1989.0     1898.333333\n",
       "1990.0     2998.933333\n",
       "1991.0     2873.838710\n",
       "1992.0     2168.852941\n",
       "1993.0     3744.770833\n",
       "1994.0     5147.592593\n",
       "1995.0     2240.657143\n",
       "1996.0     1626.222222\n",
       "1997.0     2136.406780\n",
       "1998.0     2153.791045\n",
       "1999.0     1819.892857\n",
       "2000.0     1893.339181\n",
       "2001.0     1984.191489\n",
       "2002.0     1218.248804\n",
       "2003.0     1791.319527\n",
       "2004.0     2164.098131\n",
       "2005.0     1182.936652\n",
       "2006.0     2509.669456\n",
       "2007.0     3046.725490\n",
       "2008.0     2673.791111\n",
       "2009.0     4971.026923\n",
       "2010.0    11229.843478\n",
       "2011.0    15891.573333\n",
       "2012.0    24259.004525\n",
       "2013.0    25115.805907\n",
       "2014.0    19850.422925\n",
       "2015.0    19775.920354\n",
       "2016.0    17610.669811\n",
       "Name: movie_facebook_likes, dtype: float64"
      ]
     },
     "execution_count": 139,
     "metadata": {},
     "output_type": "execute_result"
    }
   ],
   "source": [
    "like_per_year = cleaned_data.groupby(\"title_year\")[\"movie_facebook_likes\"].mean()\n",
    "like_per_year[-5:]"
   ]
  },
  {
   "cell_type": "markdown",
   "metadata": {},
   "source": [
    "# Data Visualization\n",
    "## Matplotlib: Line Plot : Average Facebook Likes per Year\n",
    "Plot takes in as the first parameter the x axis and the second, the y axis values.\n",
    "\n",
    "plt.figure(figsize=(15,8)) is just the size of the plot."
   ]
  },
  {
   "cell_type": "code",
   "execution_count": 137,
   "metadata": {
    "collapsed": true
   },
   "outputs": [],
   "source": [
    "# we're preempting seaborn for a better look-and-feel of the plots\n",
    "import seaborn as sns"
   ]
  },
  {
   "cell_type": "code",
   "execution_count": 140,
   "metadata": {
    "collapsed": false
   },
   "outputs": [
    {
     "data": {
      "image/png": "[encoded data removed]",
      "text/plain": [
       "<matplotlib.figure.Figure at 0x7f8fdef20128>"
      ]
     },
     "metadata": {},
     "output_type": "display_data"
    }
   ],
   "source": [
    "fig = plt.figure(figsize=(15,8))\n",
    "years = like_per_year.index.tolist()[1:]\n",
    "likes = like_per_year[1:]\n",
    "plt.plot(years, likes)\n",
    "plt.show()"
   ]
  },
  {
   "cell_type": "markdown",
   "metadata": {},
   "source": [
    "## Matplotlib: Scatterplot : Gross VS Budget"
   ]
  },
  {
   "cell_type": "code",
   "execution_count": null,
   "metadata": {
    "collapsed": false
   },
   "outputs": [],
   "source": [
    "fig = plt.figure(figsize=(15,8))\n",
    "plt.scatter(cleaned_data[\"gross\"], cleaned_data[\"budget\"])\n",
    "plt.show()"
   ]
  },
  {
   "cell_type": "markdown",
   "metadata": {},
   "source": [
    "## Matplotlib: Histogram of IMDB scores"
   ]
  },
  {
   "cell_type": "code",
   "execution_count": null,
   "metadata": {
    "collapsed": false
   },
   "outputs": [],
   "source": [
    "fig = plt.figure(figsize=(15,8))\n",
    "plt.hist(cleaned_data[\"imdb_score\"], bins=20)\n",
    "plt.show()"
   ]
  },
  {
   "cell_type": "markdown",
   "metadata": {},
   "source": [
    "## Pandas : Barplot of the gross earnings of the 10 movies with highest budget superimposed with their budget as a line graph"
   ]
  },
  {
   "cell_type": "code",
   "execution_count": null,
   "metadata": {
    "collapsed": false
   },
   "outputs": [],
   "source": [
    "top_budget = cleaned_data.sort_values(by=\"budget\", ascending=False)[\"movie_title\"][:10].tolist()\n",
    "top_budget_data = cleaned_data[cleaned_data[\"movie_title\"].isin(top_budget)]\n",
    "\n",
    "ax1 = top_budget_data.plot(x=\"movie_title\", y=\"gross\", kind=\"bar\", figsize=(15,8))\n",
    "ax2 = ax1.twinx()\n",
    "top_budget_data.plot(x=\"movie_title\", y=\"budget\", kind=\"line\", \n",
    "                     color='red', figsize=(15,8), ax=ax2)\n",
    "ax1.legend(loc='upper left')\n",
    "ax2.legend(loc='upper right')\n",
    "plt.show()"
   ]
  },
  {
   "cell_type": "markdown",
   "metadata": {},
   "source": [
    "## Plot the histograms of imdb_scores according to different content rating Types  \n",
    "We're finding out which content type tends to have the higher imdb_score."
   ]
  },
  {
   "cell_type": "code",
   "execution_count": 141,
   "metadata": {
    "collapsed": false
   },
   "outputs": [
    {
     "name": "stderr",
     "output_type": "stream",
     "text": [
      "/home/beato/anaconda3/lib/python3.6/site-packages/statsmodels/nonparametric/kdetools.py:20: VisibleDeprecationWarning: using a non-integer number instead of an integer will result in an error in the future\n",
      "  y = X[:m/2+1] + np.r_[0,X[m/2+1:],0]*1j\n"
     ]
    },
    {
     "data": {
      "text/plain": [
       "<matplotlib.axes._subplots.AxesSubplot at 0x7f8fdeeecf28>"
      ]
     },
     "execution_count": 141,
     "metadata": {},
     "output_type": "execute_result"
    },
    {
     "data": {
      "image/png": "[encoded data removed]",
      "text/plain": [
       "<matplotlib.figure.Figure at 0x7f8fdeeff898>"
      ]
     },
     "metadata": {},
     "output_type": "display_data"
    }
   ],
   "source": [
    "import seaborn as sns\n",
    "\n",
    "ax = sns.distplot(cleaned_data[cleaned_data['content_rating'] == 'PG-13'][\"imdb_score\"], \n",
    "                  color='red')\n",
    "sns.distplot(cleaned_data[cleaned_data['content_rating'] == 'R'][\"imdb_score\"], \n",
    "             color='teal', ax=ax)\n",
    "sns.distplot(cleaned_data[cleaned_data['content_rating'] == 'GP'][\"imdb_score\"], \n",
    "             color='blue', ax=ax)"
   ]
  },
  {
   "cell_type": "code",
   "execution_count": 143,
   "metadata": {
    "collapsed": false
   },
   "outputs": [
    {
     "data": {
      "image/png": "[encoded data removed]",
      "text/plain": [
       "<matplotlib.figure.Figure at 0x7f8fde7ffe80>"
      ]
     },
     "metadata": {},
     "output_type": "display_data"
    }
   ],
   "source": [
    "from pandas.tools.plotting import scatter_matrix\n",
    "cols = [\"num_critic_for_reviews\", \"imdb_score\", \"movie_facebook_likes\"]\n",
    "scatter_matrix(cleaned_data[cols], alpha=0.2, figsize=(20, 20), \n",
    "               diagonal='kde', marker='o')\n",
    "plt.show()"
   ]
  },
  {
   "cell_type": "code",
   "execution_count": null,
   "metadata": {
    "collapsed": false
   },
   "outputs": [],
   "source": [
    "from pandas.tools.plotting import scatter_matrix\n",
    "cols = [\"num_critic_for_reviews\", \"duration\", \"facenumber_in_poster\", \n",
    "        \"num_user_for_reviews\", \"budget\", \"imdb_score\", \"movie_facebook_likes\", \"gross\"]\n",
    "scatter_matrix(cleaned_data[cols], alpha=0.2, figsize=(20, 20), \n",
    "               diagonal='kde', marker='o')\n",
    "plt.show()"
   ]
  },
  {
   "cell_type": "markdown",
   "metadata": {},
   "source": [
    "## Seaborn : Conditional Formatting\n",
    "For more, check out: https://pandas.pydata.org/pandas-docs/stable/style.html"
   ]
  },
  {
   "cell_type": "code",
   "execution_count": null,
   "metadata": {
    "collapsed": false
   },
   "outputs": [],
   "source": [
    "import seaborn as sns\n",
    "\n",
    "cm = sns.light_palette(\"green\", as_cmap=True)\n",
    "cols = [\"movie_title\", \"imdb_score\",\"gross\"]\n",
    "color_me = cleaned_data[cols][:10]\n",
    "s = color_me.style.background_gradient(cmap=cm)\n",
    "s"
   ]
  },
  {
   "cell_type": "markdown",
   "metadata": {},
   "source": [
    "## Advanced Graphs: Plotting more than 2 variables\n",
    "\n",
    "Let's take this slowly."
   ]
  },
  {
   "cell_type": "code",
   "execution_count": null,
   "metadata": {
    "collapsed": false,
    "scrolled": false
   },
   "outputs": [],
   "source": [
    "plt.figure(figsize=(15,8))\n",
    "sizes = 1000*((cleaned_data[\"gross\"] - min(cleaned_data[\"gross\"])) \n",
    "              / max(cleaned_data[\"gross\"] ) - min(cleaned_data[\"gross\"] ))\n",
    "colors = np.where(cleaned_data.genres.str.contains(\"Fantasy\"), 'red', 'green')\n",
    "plt.scatter(x=cleaned_data[\"movie_facebook_likes\"], \n",
    "            y=cleaned_data[\"imdb_score\"], c=colors,\n",
    "            s = sizes)\n",
    "\n",
    "plt.xlabel(\"Facebook Likes\")\n",
    "plt.ylabel(\"IMDB Score\")\n",
    "plt.xlim((0,100000))\n",
    "plt.show()"
   ]
  },
  {
   "cell_type": "markdown",
   "metadata": {},
   "source": [
    "## Seaborn : Line Plot with Regression : Voted users and reviews"
   ]
  },
  {
   "cell_type": "code",
   "execution_count": 153,
   "metadata": {
    "collapsed": false
   },
   "outputs": [
    {
     "data": {
      "text/plain": [
       "<seaborn.axisgrid.FacetGrid at 0x7f8fde187a20>"
      ]
     },
     "execution_count": 153,
     "metadata": {},
     "output_type": "execute_result"
    },
    {
     "data": {
      "image/png": "[encoded data removed]",
      "text/plain": [
       "<matplotlib.figure.Figure at 0x7f8fde1870b8>"
      ]
     },
     "metadata": {},
     "output_type": "display_data"
    }
   ],
   "source": [
    "sns.lmplot(x=\"num_voted_users\", \n",
    "           y=\"num_user_for_reviews\",\n",
    "           data=cleaned_data, size=8)"
   ]
  },
  {
   "cell_type": "code",
   "execution_count": 144,
   "metadata": {
    "collapsed": false
   },
   "outputs": [
    {
     "data": {
      "text/plain": [
       "<seaborn.axisgrid.JointGrid at 0x7f8fde61def0>"
      ]
     },
     "execution_count": 144,
     "metadata": {},
     "output_type": "execute_result"
    },
    {
     "data": {
      "image/png": "[encoded data removed]",
      "text/plain": [
       "<matplotlib.figure.Figure at 0x7f8fde7cdcf8>"
      ]
     },
     "metadata": {},
     "output_type": "display_data"
    }
   ],
   "source": [
    "sns.jointplot(x=\"num_voted_users\", y=\"num_user_for_reviews\", data=cleaned_data, size=8,\n",
    "             kind=\"hex\", color=\"#4CB391\")"
   ]
  },
  {
   "cell_type": "markdown",
   "metadata": {},
   "source": [
    "## Challenge! Fix the above plot by clipping by the Tukey's Test (k=1):\n",
    "Use the np.clip function to bound the results as the following interval:\n",
    "$$\n",
    "{\\big [}Q_{1}-k(Q_{3}-Q_{1}),Q_{3}+k(Q_{3}-Q_{1}){\\big ]}\n",
    "$$"
   ]
  },
  {
   "cell_type": "code",
   "execution_count": 207,
   "metadata": {
    "collapsed": false,
    "scrolled": true
   },
   "outputs": [
    {
     "data": {
      "text/plain": [
       "<seaborn.axisgrid.JointGrid at 0x7f8fdc3571d0>"
      ]
     },
     "execution_count": 207,
     "metadata": {},
     "output_type": "execute_result"
    },
    {
     "data": {
      "image/png": "[encoded data removed]",
      "text/plain": [
       "<matplotlib.figure.Figure at 0x7f8fbf548828>"
      ]
     },
     "metadata": {},
     "output_type": "display_data"
    }
   ],
   "source": [
    "d = cleaned_data[['num_voted_users', 'num_user_for_reviews']]\n",
    "\n",
    "# find min, max?\n",
    "my_min = 0\n",
    "my_max = 100\n",
    "\n",
    "new_d = np.clip(d, my_min, my_max)\n",
    "\n",
    "sns.jointplot(x=\"num_voted_users\", y=\"num_user_for_reviews\", data=new_d, size=8, kind=\"hex\", color=\"#4CB391\")"
   ]
  },
  {
   "cell_type": "markdown",
   "metadata": {},
   "source": [
    "## Seaborn : Barplot of the gross earnings of the last 10 years"
   ]
  },
  {
   "cell_type": "code",
   "execution_count": 208,
   "metadata": {
    "collapsed": false
   },
   "outputs": [
    {
     "data": {
      "image/png": "[encoded data removed]",
      "text/plain": [
       "<matplotlib.figure.Figure at 0x7f8fbfa1ef28>"
      ]
     },
     "metadata": {},
     "output_type": "display_data"
    }
   ],
   "source": [
    "cleaned_data[\"title_year\"] = cleaned_data[\"title_year\"].astype(np.int64)\n",
    "latest_10_years = np.sort(cleaned_data[\"title_year\"].unique())[-10:]\n",
    "\n",
    "latest_movies_data=cleaned_data[cleaned_data[\"title_year\"].isin(latest_10_years)]\n",
    "plt.figure(figsize=(15,4))\n",
    "sns.barplot(x=\"title_year\", y=\"gross\", data=latest_movies_data)\n",
    "plt.xticks(rotation=45)\n",
    "plt.show()"
   ]
  },
  {
   "cell_type": "markdown",
   "metadata": {},
   "source": [
    "## Challenge : Get the top 10 directors with most movies directed and use a boxplot for their gross earnings"
   ]
  },
  {
   "cell_type": "code",
   "execution_count": 1,
   "metadata": {
    "collapsed": false
   },
   "outputs": [
    {
     "ename": "NameError",
     "evalue": "name 'pd' is not defined",
     "output_type": "error",
     "traceback": [
      "\u001b[0;31m---------------------------------------------------------------------------\u001b[0m",
      "\u001b[0;31mNameError\u001b[0m                                 Traceback (most recent call last)",
      "\u001b[0;32m<ipython-input-1-25de7874ba14>\u001b[0m in \u001b[0;36m<module>\u001b[0;34m()\u001b[0m\n\u001b[1;32m      1\u001b[0m \u001b[0;31m# reimport\u001b[0m\u001b[0;34m\u001b[0m\u001b[0;34m\u001b[0m\u001b[0m\n\u001b[0;32m----> 2\u001b[0;31m \u001b[0md\u001b[0m \u001b[0;34m=\u001b[0m \u001b[0mpd\u001b[0m\u001b[0;34m.\u001b[0m\u001b[0mread_csv\u001b[0m\u001b[0;34m(\u001b[0m\u001b[0;34m\"movie_metadata.csv\"\u001b[0m\u001b[0;34m)\u001b[0m\u001b[0;34m\u001b[0m\u001b[0m\n\u001b[0m\u001b[1;32m      3\u001b[0m \u001b[0md\u001b[0m\u001b[0;34m[\u001b[0m\u001b[0;34m'gross'\u001b[0m\u001b[0;34m]\u001b[0m\u001b[0;34m.\u001b[0m\u001b[0mfillna\u001b[0m\u001b[0;34m(\u001b[0m\u001b[0;36m0\u001b[0m\u001b[0;34m,\u001b[0m \u001b[0minplace\u001b[0m\u001b[0;34m=\u001b[0m\u001b[0;32mTrue\u001b[0m\u001b[0;34m)\u001b[0m\u001b[0;34m\u001b[0m\u001b[0m\n\u001b[1;32m      4\u001b[0m \u001b[0md\u001b[0m\u001b[0;34m[\u001b[0m\u001b[0;34m'budget'\u001b[0m\u001b[0;34m]\u001b[0m\u001b[0;34m.\u001b[0m\u001b[0mfillna\u001b[0m\u001b[0;34m(\u001b[0m\u001b[0;36m0\u001b[0m\u001b[0;34m,\u001b[0m \u001b[0minplace\u001b[0m\u001b[0;34m=\u001b[0m\u001b[0;32mTrue\u001b[0m\u001b[0;34m)\u001b[0m\u001b[0;34m\u001b[0m\u001b[0m\n\u001b[1;32m      5\u001b[0m \u001b[0;34m\u001b[0m\u001b[0m\n",
      "\u001b[0;31mNameError\u001b[0m: name 'pd' is not defined"
     ]
    }
   ],
   "source": [
    "# reimport\n",
    "d = pd.read_csv(\"movie_metadata.csv\")\n",
    "d['gross'].fillna(0, inplace=True)\n",
    "d['budget'].fillna(0, inplace=True)\n",
    "\n",
    "# get top 10 directors\n",
    "topdirs = d.groupby('director_name').count().sort_values(by='movie_title', ascending=False)[:10].index\n",
    "\n",
    "# get data frame with summed gross\n",
    "grosses = d[['director_name', 'gross']]\n",
    "\n",
    "gg = grosses[grosses['director_name'].isin(topdirs)].boxplot(by='director_name', column='gross', rot=90)\n"
   ]
  },
  {
   "cell_type": "markdown",
   "metadata": {},
   "source": [
    "# Afternoon Activities"
   ]
  },
  {
   "cell_type": "markdown",
   "metadata": {},
   "source": [
    "## Plot the following variables in one graph:\n",
    "\n",
    "- num_critic_for_reviews\n",
    "- IMDB score\n",
    "- gross\n",
    "- Steven Spielberg against others"
   ]
  },
  {
   "cell_type": "code",
   "execution_count": null,
   "metadata": {
    "collapsed": false
   },
   "outputs": [],
   "source": [
    "chart1 = d.groupby('director_name').aggregate(sum)[['num_critic_for_reviews', 'imdb_score', 'gross']]\n",
    "display(chart1)"
   ]
  },
  {
   "cell_type": "markdown",
   "metadata": {},
   "source": [
    "## Compute Sales (Gross - Budget), add it as another column"
   ]
  },
  {
   "cell_type": "code",
   "execution_count": null,
   "metadata": {
    "collapsed": false
   },
   "outputs": [],
   "source": [
    "chart2 = d.groupby('director_name').aggregate(sum)[['num_critic_for_reviews', 'imdb_score', 'gross', 'budget']]\n",
    "chart2['sales'] = chart2.gross - chart2.budget\n",
    "display(chart2[['num_critic_for_reviews', 'imdb_score', 'gross', 'sales']])"
   ]
  },
  {
   "cell_type": "markdown",
   "metadata": {},
   "source": [
    "## Which directors garnered the most total sales?"
   ]
  },
  {
   "cell_type": "code",
   "execution_count": null,
   "metadata": {
    "collapsed": false
   },
   "outputs": [],
   "source": [
    "chart2.sort_values(by='sales', ascending=False)[['sales']][:10]"
   ]
  },
  {
   "cell_type": "markdown",
   "metadata": {},
   "source": [
    "## Which actors garnered the most total sales?"
   ]
  },
  {
   "cell_type": "code",
   "execution_count": null,
   "metadata": {
    "collapsed": false,
    "scrolled": true
   },
   "outputs": [],
   "source": [
    "chart3 = d.groupby('actor_1_name').aggregate(sum)[['gross', 'budget']]\n",
    "chart3['sales'] = chart3.gross - chart3.budget\n",
    "chart3 = chart3.sort_values(by='sales', ascending=False)[['sales']][:10]\n",
    "display(chart3)"
   ]
  },
  {
   "cell_type": "markdown",
   "metadata": {},
   "source": [
    "## Plot director sales and average likes as a scatterplot. Fit it with a line."
   ]
  },
  {
   "cell_type": "code",
   "execution_count": null,
   "metadata": {
    "collapsed": false
   },
   "outputs": [],
   "source": [
    "chart4 = d.groupby('director_name').aggregate(sum)#[['movie_title', 'gross', 'budget', 'director_facebook_likes']]\n",
    "count_frame = d.groupby('director_name').count()\n",
    "chart4['sales'] = chart4.gross - chart4.budget\n",
    "chart4['average_likes'] = chart4.director_facebook_likes / count_frame.movie_title\n",
    "#display(chart4[['sales', 'average_likes']])\n",
    "chart4.plot(kind='scatter', x='sales', y='average_likes').set_xlim(0)"
   ]
  },
  {
   "cell_type": "markdown",
   "metadata": {},
   "source": [
    "## Which of these genres are the most profitable? Plot their sales using different histograms, superimposed in the same axis.\n",
    "\n",
    "- Romance\n",
    "- Comedy\n",
    "- Action\n",
    "- Fantasy"
   ]
  },
  {
   "cell_type": "code",
   "execution_count": null,
   "metadata": {
    "collapsed": false
   },
   "outputs": [],
   "source": [
    "chart5 = d.groupby('genres').aggregate(sum)[['gross', 'budget']]\n",
    "chart5['sales'] = chart5.gross - chart5.budget\n",
    "chart5[['sales']]"
   ]
  },
  {
   "cell_type": "markdown",
   "metadata": {},
   "source": [
    "## Standardization\n",
    "Standardize sales using the following formula then save it to a new column.\n",
    "\n",
    "$$\n",
    "Z={X-\\operatorname {E} [X] \\over \\sigma (X)}\n",
    "$$\n",
    "\n",
    "The first values should be: [2.612646, 0.026695, -0.246587, 0.975996, -0.020609]"
   ]
  },
  {
   "cell_type": "code",
   "execution_count": null,
   "metadata": {
    "collapsed": true
   },
   "outputs": [],
   "source": []
  },
  {
   "cell_type": "markdown",
   "metadata": {},
   "source": [
    "## For each of movie, compute average likes of the three actors and store it as a new variable. Standardize. Read up on the mean function.\n",
    "\n",
    "Store it as a new column, average_actor_likes."
   ]
  },
  {
   "cell_type": "code",
   "execution_count": null,
   "metadata": {
    "collapsed": true,
    "scrolled": true
   },
   "outputs": [],
   "source": []
  },
  {
   "cell_type": "markdown",
   "metadata": {},
   "source": [
    "## Create a linear hypothesis function\n",
    "\n",
    "Create a function that takes (1) a scalar, (2) theta and (3) a bias variable to output a value as close as possible to gross.\n",
    "\n",
    "$$\n",
    "score = b + \\sum_j{(\\theta_j * x)}\n",
    "$$\n",
    "\n",
    "$$\n",
    "score = \\theta_1 * average\\_actor\\_likes + bias\n",
    "$$"
   ]
  },
  {
   "cell_type": "code",
   "execution_count": null,
   "metadata": {
    "collapsed": true
   },
   "outputs": [],
   "source": []
  },
  {
   "cell_type": "markdown",
   "metadata": {},
   "source": [
    "## Create an RMSE function\n",
    "Create a function that compares two vectors and outputs the root mean squared error / deviation.\n",
    "\n",
    "$$\n",
    "\\operatorname{RMSD}(\\hat{\\theta}) = \\sqrt{\\operatorname{MSE}(\\hat{\\theta})} = \\sqrt{\\operatorname{E}((\\hat{\\theta}-\\theta)^2)}\n",
    "$$"
   ]
  },
  {
   "cell_type": "code",
   "execution_count": null,
   "metadata": {
    "collapsed": true
   },
   "outputs": [],
   "source": []
  },
  {
   "cell_type": "markdown",
   "metadata": {},
   "source": [
    "## Create the best possible thetas by brute-forcing against the RMSE function.\n",
    "\n",
    "Create predictions for your entire dataset. Compare your predictions against the score. Achieve the smallest RMSE you can."
   ]
  },
  {
   "cell_type": "code",
   "execution_count": null,
   "metadata": {
    "collapsed": false
   },
   "outputs": [],
   "source": []
  },
  {
   "cell_type": "markdown",
   "metadata": {},
   "source": [
    "## Plot your best theta, bias variable against the imdb score for each movie\n",
    "\n",
    "For a cleaner plot:\n",
    "\n",
    "(1) compile your average_actor_likes, imdb_scores and predicted to a new dataframe\n",
    "\n",
    "(2) limit the bounds of your predicted ratings"
   ]
  },
  {
   "cell_type": "code",
   "execution_count": null,
   "metadata": {
    "collapsed": false,
    "scrolled": true
   },
   "outputs": [],
   "source": []
  },
  {
   "cell_type": "code",
   "execution_count": null,
   "metadata": {
    "collapsed": false
   },
   "outputs": [],
   "source": []
  },
  {
   "cell_type": "markdown",
   "metadata": {},
   "source": [
    "## Convert your hypothesis function to use more variables:\n",
    "\n",
    "Don't forget to standardize your new variables.\n",
    "\n",
    "$$\n",
    "score = \\theta_1 * average\\_actor\\_likes + \\theta_2 * movie\\_facebook\\_likes + \\theta_3 * sales + bias\n",
    "$$"
   ]
  },
  {
   "cell_type": "code",
   "execution_count": null,
   "metadata": {
    "collapsed": true
   },
   "outputs": [],
   "source": []
  },
  {
   "cell_type": "code",
   "execution_count": null,
   "metadata": {
    "collapsed": false
   },
   "outputs": [],
   "source": []
  },
  {
   "cell_type": "markdown",
   "metadata": {},
   "source": [
    "## Compile your theta values to a new pandas dataframe which consists of the following columns:\n",
    "\n",
    "<table>\n",
    "<th> $\\theta_1$ </th> \n",
    "<th> $\\theta_2$ </th>\n",
    "<th> $\\theta_3$ </th>\n",
    "<th> $RMSE$ </th>\n",
    "\n",
    "<tr>\n",
    "<td>0.1</td><td>0.1</td><td>0.1</td><td>10000</td>\n",
    "</tr>\n",
    "\n",
    "<tr>\n",
    "<td>0.2</td><td>0.2</td><td>0.2</td><td>2000</td>\n",
    "</tr>\n",
    "\n",
    "</table>\n"
   ]
  },
  {
   "cell_type": "code",
   "execution_count": null,
   "metadata": {
    "collapsed": true
   },
   "outputs": [],
   "source": []
  },
  {
   "cell_type": "markdown",
   "metadata": {},
   "source": [
    "## Plot how each theta parameter influence the RMSE. Which one seems to be most influential?"
   ]
  },
  {
   "cell_type": "code",
   "execution_count": null,
   "metadata": {
    "collapsed": true
   },
   "outputs": [],
   "source": []
  },
  {
   "cell_type": "markdown",
   "metadata": {},
   "source": [
    "# Advanced Activities"
   ]
  },
  {
   "cell_type": "markdown",
   "metadata": {},
   "source": [
    "## Using Linear Regression (Ridge)\n",
    "Find the best coefficients using Ridge regression"
   ]
  },
  {
   "cell_type": "code",
   "execution_count": null,
   "metadata": {
    "collapsed": true
   },
   "outputs": [],
   "source": []
  }
 ],
 "metadata": {
  "kernelspec": {
   "display_name": "Python 3",
   "language": "python",
   "name": "python3"
  },
  "language_info": {
   "codemirror_mode": {
    "name": "ipython",
    "version": 3
   },
   "file_extension": ".py",
   "mimetype": "text/x-python",
   "name": "python",
   "nbconvert_exporter": "python",
   "pygments_lexer": "ipython3",
   "version": "3.6.0"
  }
 },
 "nbformat": 4,
 "nbformat_minor": 1
}
